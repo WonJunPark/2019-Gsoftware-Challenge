{
  "nbformat": 4,
  "nbformat_minor": 0,
  "metadata": {
    "colab": {
      "name": "algorithm.ipynb",
      "provenance": [],
      "collapsed_sections": [],
      "toc_visible": true,
      "include_colab_link": true
    },
    "kernelspec": {
      "display_name": "Python 3",
      "name": "python3"
    }
  },
  "cells": [
    {
      "cell_type": "markdown",
      "metadata": {
        "id": "view-in-github",
        "colab_type": "text"
      },
      "source": [
        "<a href=\"https://colab.research.google.com/github/WonJunPark/2019-Gsoftware-Challenge/blob/master/algorithm.ipynb\" target=\"_parent\"><img src=\"https://colab.research.google.com/assets/colab-badge.svg\" alt=\"Open In Colab\"/></a>"
      ]
    },
    {
      "cell_type": "markdown",
      "metadata": {
        "id": "UWFbRXyemasD",
        "colab_type": "text"
      },
      "source": [
        "## 4월 8일 알고리즘 수업\n",
        "- 김우성 교수님"
      ]
    },
    {
      "cell_type": "markdown",
      "metadata": {
        "id": "KYVqim89mgia",
        "colab_type": "text"
      },
      "source": [
        "### 선택정렬"
      ]
    },
    {
      "cell_type": "code",
      "metadata": {
        "id": "XRj8xFs7XvWG",
        "colab_type": "code",
        "outputId": "d6280e03-e471-493b-e3a9-717ed8ec66b3",
        "colab": {
          "base_uri": "https://localhost:8080/",
          "height": 123
        }
      },
      "source": [
        "a = [29,10,14,37,13]\n",
        "n = len(a)\n",
        "result = selectionSort(a,n)\n",
        "print('선택정렬 결과 :',result)"
      ],
      "execution_count": 0,
      "outputs": [
        {
          "output_type": "stream",
          "text": [
            "loop.. :  [29, 10, 14, 13, 37]\n",
            "loop.. :  [13, 10, 14, 29, 37]\n",
            "loop.. :  [13, 10, 14, 29, 37]\n",
            "loop.. :  [10, 13, 14, 29, 37]\n",
            "loop.. :  [10, 13, 14, 29, 37]\n",
            "선택정렬 결과 : [10, 13, 14, 29, 37]\n"
          ],
          "name": "stdout"
        }
      ]
    },
    {
      "cell_type": "code",
      "metadata": {
        "id": "bO8ESqmHXvYc",
        "colab_type": "code",
        "colab": {}
      },
      "source": [
        "def selectionSort(a,n):\n",
        "\n",
        "  max_ = a[0]\n",
        "\n",
        "  for i in range(n-1,-1,-1):\n",
        "    # 4~0 까지 루프\n",
        "    # 최댓값 인댁스\n",
        "    max_index = i\n",
        "\n",
        "    # 최댓값 인덱스 찾기\n",
        "    for j in range(0,i):\n",
        "      if a[j] > a[max_index]:\n",
        "        max_index = j\n",
        "    \n",
        "    # 스위치\n",
        "    a[i], a[max_index] = a[max_index], a[i]\n",
        "    print('loop.. : ',a)\n",
        "  \n",
        "  return a"
      ],
      "execution_count": 0,
      "outputs": []
    },
    {
      "cell_type": "markdown",
      "metadata": {
        "id": "F12E-_jntcVY",
        "colab_type": "text"
      },
      "source": [
        "### 병합정렬"
      ]
    },
    {
      "cell_type": "code",
      "metadata": {
        "id": "VE9087kyzdXb",
        "colab_type": "code",
        "outputId": "09102153-008d-4b0b-c485-39e666f248d5",
        "colab": {
          "base_uri": "https://localhost:8080/",
          "height": 34
        }
      },
      "source": [
        "a = [7,2,9,4,3,8,6,1]\n",
        "mergeSort(a)"
      ],
      "execution_count": 0,
      "outputs": [
        {
          "output_type": "execute_result",
          "data": {
            "text/plain": [
              "[1, 2, 3, 4, 6, 7, 8, 9]"
            ]
          },
          "metadata": {
            "tags": []
          },
          "execution_count": 76
        }
      ]
    },
    {
      "cell_type": "code",
      "metadata": {
        "id": "fds3ytxOtcBp",
        "colab_type": "code",
        "colab": {}
      },
      "source": [
        "def mergeSort(a):\n",
        "    # a의 길이가 1 이상일 때\n",
        "    if len(a)>1:\n",
        "        # 중간 지점을 구함\n",
        "        mid = len(a)//2\n",
        "\n",
        "        # 중간 지점을 기준으로 좌우를 나눔 \n",
        "        left = a[:mid]\n",
        "        right = a[mid:]\n",
        "\n",
        "        # 전반부, 후반부 정렬\n",
        "        left2 = mergeSort(left)\n",
        "        right2 = mergeSort(right)\n",
        "\n",
        "        # merge함수를 불러와서 병합\n",
        "        return merge(left2, right2)\n",
        "    else:\n",
        "        return a\n"
      ],
      "execution_count": 0,
      "outputs": []
    },
    {
      "cell_type": "code",
      "metadata": {
        "id": "H-jxMTHStcDn",
        "colab_type": "code",
        "colab": {}
      },
      "source": [
        "def merge(left, right):\n",
        "  # 임의의 두 변수를 선언\n",
        "  # 이 두값이 리스트내 값을 비교하는 지표가됨\n",
        "  i = 0\n",
        "  j = 0\n",
        "\n",
        "  # 결과값을 받은 리스트\n",
        "  merge_a = []\n",
        "\n",
        "  # 좌우를 비교하여 작은값을 결과 리스트에 추가\n",
        "  while (i<len(left)) & (j<len(right)):\n",
        "      if left[i] < right[j]:\n",
        "          merge_a.append(left[i])\n",
        "          i+=1\n",
        "      else:\n",
        "          merge_a.append(right[j])\n",
        "          j+=1\n",
        "  \n",
        "  # 나머지 값들을 결과 리스트에 추가\n",
        "  while (i<len(left)):\n",
        "      merge_a.append(left[i])\n",
        "      i+=1\n",
        "  \n",
        "  while (j<len(right)):\n",
        "      merge_a.append(right[j])\n",
        "      j+=1\n",
        "      \n",
        "  return merge_a\n",
        "    "
      ],
      "execution_count": 0,
      "outputs": []
    },
    {
      "cell_type": "markdown",
      "metadata": {
        "id": "tL0FYWk_xGkK",
        "colab_type": "text"
      },
      "source": [
        "## 4월 22일 알고리즘 수업"
      ]
    },
    {
      "cell_type": "markdown",
      "metadata": {
        "id": "B_GBjbpexKmx",
        "colab_type": "text"
      },
      "source": [
        "### 퀵 정렬"
      ]
    },
    {
      "cell_type": "code",
      "metadata": {
        "id": "aJyLUzYsxz3z",
        "colab_type": "code",
        "outputId": "6d167f43-3836-471f-f3f3-21d49c33cb63",
        "colab": {
          "base_uri": "https://localhost:8080/",
          "height": 35
        }
      },
      "source": [
        "a = [7,2,9,4,3,8,6,1]\n",
        "quick_sort(a)"
      ],
      "execution_count": 0,
      "outputs": [
        {
          "output_type": "execute_result",
          "data": {
            "text/plain": [
              "[1, 2, 3, 4, 6, 7, 8, 9]"
            ]
          },
          "metadata": {
            "tags": []
          },
          "execution_count": 14
        }
      ]
    },
    {
      "cell_type": "code",
      "metadata": {
        "id": "UAPfEr7wxxR0",
        "colab_type": "code",
        "colab": {}
      },
      "source": [
        "def quick_sort(a):\n",
        "  # a의 길이가 2 이상일 때,\n",
        "  if len(a) > 1:\n",
        "    pivot = a[0]\n",
        "    # pivot을 기준으로 작은값은 left, 크거나 같은 값은 right 변수에 담는다.\n",
        "    left = [e for e in a[1:] if e < pivot]\n",
        "    right = [e for e in a[1:] if e >= pivot]\n",
        "    # pivot을 기준으로 left, right 리스트를 병합하고 재귀함수를 실행한다.\n",
        "    return quick_sort(left) + [pivot] + quick_sort(right)\n",
        "\n",
        "  else :\n",
        "    return a"
      ],
      "execution_count": 0,
      "outputs": []
    },
    {
      "cell_type": "markdown",
      "metadata": {
        "id": "injQjG1vb7Rf",
        "colab_type": "text"
      },
      "source": [
        "## 4월 29일 알고리즘 수업"
      ]
    },
    {
      "cell_type": "markdown",
      "metadata": {
        "id": "pSs4CttpcAQt",
        "colab_type": "text"
      },
      "source": [
        "### 힙 정렬"
      ]
    },
    {
      "cell_type": "markdown",
      "metadata": {
        "id": "uElQfGsUwfjV",
        "colab_type": "text"
      },
      "source": [
        "- 힙 성질이란? 크기(우선 순위)를 중심으로 정렬\n",
        "- 힙은 한 노드가 최대 두개의 자식노드를 가지면서 마지막 레벨을 제외한 모든 레벨에서 완전 이진트리\n",
        "- 힙 구조를 만들어야 힙 정렬을 할 수 있음\n",
        "- ref1. https://lsjsj92.tistory.com/472\n",
        "- ref2. https://ratsgo.github.io/data%20structure&algorithm/2017/09/27/heapsort/"
      ]
    },
    {
      "cell_type": "markdown",
      "metadata": {
        "id": "TGHA3cK8y_BJ",
        "colab_type": "text"
      },
      "source": [
        "#### 1. 힙 정렬 함수"
      ]
    },
    {
      "cell_type": "code",
      "metadata": {
        "id": "0RYTqFaFyz9I",
        "colab_type": "code",
        "colab": {}
      },
      "source": [
        "def heap_sort(unsorted):\n",
        "    # 리스트에 전체 길이를 받음\n",
        "    n = len(unsorted)\n",
        "\n",
        "    # // 연산자 : 몫 구하기\n",
        "    # 이진트리를 구하기 때문에 전체 크기의 반만 반복\n",
        "    # for문을 거꾸로 돌아감\n",
        "    # 이진트리의 가장 아래서부터 heapifyt를 실행하여 힙 구조를 만듬\n",
        "\n",
        "    ### 첫번째 루프 따라가기\n",
        "    ### [loop1]. input shape : 8 // unsorted = [7,2,9,4,3,8,6,1]\n",
        "    ### [loop1]. for i in range(3,-1,-1)\n",
        "    for i in range(n // 2 - 1, -1, -1):\n",
        "        ### [loop1]. heapify(unsorted 리스트, i값인 3, 전체 길이 8)\n",
        "        ### [loop1]. heapify 함수로 이동\n",
        "        heapify(unsorted, i, n)\n",
        "\n",
        "    # 마지막 노드부터 루트노드를 기준으로 값을 스위치하면서 정렬\n",
        "\n",
        "    ### [loop1]. 현재 unsorted의 값 [9, 8, 7, 6, 3, 2, 4, 1]\n",
        "    ### [loop1]. for i in range(7, 0, -1)\n",
        "    for i in range(n - 1, 0, -1):\n",
        "        ### [loop1]. unsorted[0] = 1, unsorted[7] = 9\n",
        "        unsorted[0], unsorted[i] = unsorted[i], unsorted[0]\n",
        "        ### [loop1]. unsorted의 값 [1, 8, 7, 6, 3, 2, 4, 9]\n",
        "        ### [loop1]. heapify(unsorted, 0, 7)\n",
        "        ### [loop1]. 다시 heapify로 가서 정렬\n",
        "        heapify(unsorted, 0, i)\n",
        "        ### [loop1].힙 정렬 후, 역순으로 큰값을 끝으로 밀어넣어줌\n",
        "    return unsorted"
      ],
      "execution_count": 0,
      "outputs": []
    },
    {
      "cell_type": "markdown",
      "metadata": {
        "id": "bFcpCKFtws9g",
        "colab_type": "text"
      },
      "source": [
        "#### 2. 힙 구조 함수"
      ]
    },
    {
      "cell_type": "code",
      "metadata": {
        "id": "ccO25F8mb65h",
        "colab_type": "code",
        "colab": {}
      },
      "source": [
        "# 힙 성질을 확인 후 재정렬\n",
        "# unsorted : 배열, index : 인덱스, heap_size : 크기\n",
        "\n",
        "### [loop1]. heapify(a 리스트, i값인 3, 전체 길이 8)\n",
        "def heapify(unsorted, index, heap_size):\n",
        "\n",
        "    ### [loop1]. largest = 3\n",
        "    ### [loop1]. unsorted[3] = 4\n",
        "    largest = index\n",
        "\n",
        "    ### [loop1]. left_index = 6 // unsorted[6] = 6\n",
        "    ### [loop1]. right_index = 7 // unsorted[7] = 1\n",
        "    left_index = 2 * index\n",
        "    right_index = 2 * index +1\n",
        "\n",
        "    # 자식노드가 범위안에 드는지 확인, 자식노드가 부모노드보다 큰지 확인\n",
        "    # 자식노드가 부모노드보다 크다면 인덱스 스위치\n",
        "\n",
        "    ### [loop1]. unsorted[left_index] = 6, unsorted[largest] = 3\n",
        "    if left_index < heap_size and unsorted[left_index] > unsorted[largest]:\n",
        "        ### [loop1]. largest = 6\n",
        "        largest = left_index\n",
        "\n",
        "    ### [loop1]. unsorted[right_index] = 1, unsorted[largest] = 3 // fail    \n",
        "    if right_index < heap_size and unsorted[right_index] > unsorted[largest]:\n",
        "        largest = right_index\n",
        "    \n",
        "    # 부모노드의 인덱스값이 바뀌었다면 자식노드의 값과 스위치\n",
        "\n",
        "    ### [loop1]. largest = 6 , index = 3\n",
        "    if largest != index:\n",
        "        ### [loop1]. unsorted[3] = 6 , unsorted[6] = 4 스위치\n",
        "        unsorted[largest], unsorted[index] = unsorted[index], unsorted[largest]\n",
        "        # 재귀 함수\n",
        "        heapify(unsorted, largest, heap_size)"
      ],
      "execution_count": 0,
      "outputs": []
    },
    {
      "cell_type": "markdown",
      "metadata": {
        "id": "FH-pIagCzNp3",
        "colab_type": "text"
      },
      "source": [
        "#### 3. 실행"
      ]
    },
    {
      "cell_type": "code",
      "metadata": {
        "id": "9U7oBByB1fT0",
        "colab_type": "code",
        "colab": {}
      },
      "source": [
        "a = [7,2,9,4,3,8,6,1]"
      ],
      "execution_count": 0,
      "outputs": []
    },
    {
      "cell_type": "code",
      "metadata": {
        "id": "xnSU_sIezz_e",
        "colab_type": "code",
        "outputId": "1c0eba9f-b959-47d9-9222-2641d08af95f",
        "colab": {
          "base_uri": "https://localhost:8080/",
          "height": 34
        }
      },
      "source": [
        "heap_sort(a)"
      ],
      "execution_count": 0,
      "outputs": [
        {
          "output_type": "execute_result",
          "data": {
            "text/plain": [
              "[1, 2, 3, 4, 6, 7, 8, 9]"
            ]
          },
          "metadata": {
            "tags": []
          },
          "execution_count": 33
        }
      ]
    },
    {
      "cell_type": "markdown",
      "metadata": {
        "id": "ChxqH4ZJBw63",
        "colab_type": "text"
      },
      "source": [
        "## 4월 29일 과제"
      ]
    },
    {
      "cell_type": "markdown",
      "metadata": {
        "id": "ACTtTL4qB0ut",
        "colab_type": "text"
      },
      "source": [
        "### 평균 선형 시간 선택 알고리즘\n",
        "\n",
        "- ref 1. https://iredays.tistory.com/81\n",
        "- ref 2. https://yongy0ng2.tistory.com/57\n",
        "- ref 3. https://blog.naver.com/PostView.nhn?blogId=taep0q&logNo=221388928834&parentCategoryNo=&categoryNo=12&viewDate=&isShowPopularPosts=true&from=search"
      ]
    },
    {
      "cell_type": "markdown",
      "metadata": {
        "id": "NDjm3HfbnAfe",
        "colab_type": "text"
      },
      "source": [
        "#### 1. 평균 선형 시간 선택 알고리즘 함수"
      ]
    },
    {
      "cell_type": "code",
      "metadata": {
        "id": "Um5QP3ETSKdw",
        "colab_type": "code",
        "colab": {}
      },
      "source": [
        "def select(a, start, last, target):\n",
        "  # 원소가 하나뿐일 때\n",
        "  if start == last: return a[start]\n",
        "  \n",
        "  # partition 처리 후 기준 인덱스 값을 받음\n",
        "  q = partition(a, start, last)\n",
        "\n",
        "  # k : 기준 원소에서 k번째 작은 원소\n",
        "  k = q-start+1\n",
        "\n",
        "  if target < k:\n",
        "    # 왼쪽 그룹\n",
        "    return select(a, start, q-1, target)\n",
        "  elif target > k: \n",
        "    # 오른쪽 그룹\n",
        "    return select(a, q+1, last, target-k)\n",
        "  else:\n",
        "    return a[q]\n"
      ],
      "execution_count": 0,
      "outputs": []
    },
    {
      "cell_type": "markdown",
      "metadata": {
        "id": "9CQ4x795nEm1",
        "colab_type": "text"
      },
      "source": [
        "#### 2. 파티션 함수"
      ]
    },
    {
      "cell_type": "code",
      "metadata": {
        "id": "4UM6-UQIDtx1",
        "colab_type": "code",
        "colab": {}
      },
      "source": [
        "def partition(a, start, last):\n",
        "\n",
        "  pivot = a[last]\n",
        "\n",
        "  i = start - 1\n",
        "\n",
        "  for j in range(start,last):\n",
        "    if a[j] <= pivot:\n",
        "      i += 1\n",
        "      a[i], a[j] = a[j], a[i]\n",
        "\n",
        "  # 2구역의 첫 원소와 pivot값 교환\n",
        "  a[i+1], a[last] = a[last], a[i+1]\n",
        "  return i+1"
      ],
      "execution_count": 0,
      "outputs": []
    },
    {
      "cell_type": "markdown",
      "metadata": {
        "id": "eqy5WZsnnK_S",
        "colab_type": "text"
      },
      "source": [
        "#### 3. 실행"
      ]
    },
    {
      "cell_type": "code",
      "metadata": {
        "id": "FBFKTwI-6j12",
        "colab_type": "code",
        "outputId": "8c148b55-1911-435f-fa6f-a0222dfa7989",
        "colab": {
          "base_uri": "https://localhost:8080/",
          "height": 34
        }
      },
      "source": [
        "a = [31, 8, 48, 73, 11, 3, 20, 29, 65, 15]\n",
        "target = 2\n",
        "start = 0\n",
        "last = len(a)-1\n",
        "\n",
        "result = select(a, start, last, target)\n",
        "print(result)"
      ],
      "execution_count": 0,
      "outputs": [
        {
          "output_type": "stream",
          "text": [
            "8\n"
          ],
          "name": "stdout"
        }
      ]
    },
    {
      "cell_type": "markdown",
      "metadata": {
        "id": "iplIq4xKkzqr",
        "colab_type": "text"
      },
      "source": [
        "## 5월 6일 알고리즘 수업"
      ]
    },
    {
      "cell_type": "markdown",
      "metadata": {
        "id": "Zsx1yng8k4NS",
        "colab_type": "text"
      },
      "source": [
        "### 최악의 경우 선형 시간 선택 알고리즘 (선택)"
      ]
    },
    {
      "cell_type": "code",
      "metadata": {
        "id": "U7LiHOFpk2Hn",
        "colab_type": "code",
        "colab": {}
      },
      "source": [
        ""
      ],
      "execution_count": 0,
      "outputs": []
    },
    {
      "cell_type": "markdown",
      "metadata": {
        "id": "F1IPvgBtlbKt",
        "colab_type": "text"
      },
      "source": [
        "### 이진 검색 트리\n",
        "\n",
        "- 계산 복잡성은 O(logn)으로 빠르지만 자료 입력, 삭제가 불가능\n",
        "- 이진탐색트리의 핵심 연산은 검색(retreive), 삽입(insert), 삭제(delete) 세가지로 나뉨\n",
        "- 각 노드의 왼쪽 서브트리에는 해당 노드의 값보다 작은 값, 오른쪽 서브트리에는 해당 노드의 값보다 큰값이라는 가정\n",
        "- 중복된 노드가 없어야 함\n",
        "- ref1. https://ratsgo.github.io/data%20structure&algorithm/2017/10/22/bst/\n",
        "- ref2. https://geonlee.tistory.com/72"
      ]
    },
    {
      "cell_type": "markdown",
      "metadata": {
        "id": "HMLPwiFhqZjz",
        "colab_type": "text"
      },
      "source": [
        "#### 1. 클래스 정의"
      ]
    },
    {
      "cell_type": "code",
      "metadata": {
        "id": "pFOA5QelsBoF",
        "colab_type": "code",
        "colab": {}
      },
      "source": [
        "# 노드 정의 (부모 노드1, 자식 노드2)\n",
        "class Node(object):\n",
        "  def __init__(self, data):\n",
        "    # data : 부모 노드\n",
        "    self.data = data\n",
        "    # left, right : 자식 노드\n",
        "    self.left = self.right = None"
      ],
      "execution_count": 0,
      "outputs": []
    },
    {
      "cell_type": "markdown",
      "metadata": {
        "id": "SLTnmxTqzp4c",
        "colab_type": "text"
      },
      "source": [
        "#### 2. 이진 검색 트리 구현"
      ]
    },
    {
      "cell_type": "code",
      "metadata": {
        "id": "bETlCMqSy_q3",
        "colab_type": "code",
        "colab": {}
      },
      "source": [
        "class BinarySearchTree(object):\n",
        "\n",
        "  # 1. 초기화\n",
        "  def __init__(self):\n",
        "    # 최상위 노드\n",
        "    self.root = None\n",
        "\n",
        "  # 2. 삽입\n",
        "  def insert(self, data):\n",
        "    # data를 1개의 노드씩 받아서 insert_value 함수 실행\n",
        "    self.root = self._insert_value(self.root, data)\n",
        "    # 값을 넣었으면 True 반환\n",
        "    return self.root is not None\n",
        "\n",
        "  def _insert_value(self, node, data):\n",
        "    # 부모 노드가 비워져있다면 부모 노드에 추가\n",
        "    if node is None:\n",
        "      node = Node(data)\n",
        "    # 부모 노드에 값이 있다면 자식 노드에 추가\n",
        "    else:\n",
        "      # 부모 노드보다 작으면 left에 추가\n",
        "      if data < node.data:\n",
        "        node.left = self._insert_value(node.left, data)\n",
        "      # 부모 노드보다 크다면 right에 추가\n",
        "      else:\n",
        "        node.right = self._insert_value(node.right, data)\n",
        "    return node\n",
        "\n",
        "  # 3. 탐색\n",
        "  def find(self, key):\n",
        "    # 리스트에서 찾고자하는 key값을 받아서 find_value 함수 실행 (실제 값)\n",
        "    return self._find_value(self.root, key)\n",
        "\n",
        "  # 삽입 완료된 root 노드에서 해당 값을 찾음\n",
        "  def _find_value(self, root, key):\n",
        "    # root에 값이 없거나 key값과 일치하면 값을 반환\n",
        "    if root is None or root.data == key:\n",
        "      # 값을 찾았으면 True, 못찾았으면 False 반환\n",
        "      return root is not None\n",
        "\n",
        "    # key값이 부모 노드보다 작다면 left 자식 노드로\n",
        "    elif key < root.data:\n",
        "      return self._find_value(root.left, key)\n",
        "      \n",
        "    # key값이 부모 노드보다 크다면 right 자식 노드로\n",
        "    else:\n",
        "      return self._find_value(root.right, key)\n",
        "\n",
        "  # 4. 삭제\n",
        "  def delete(self, key):\n",
        "    # 리스트에서 삭제하고자하는 key값을 받아서 deletet_value 함수 실행\n",
        "    self.root, deleted = self._delete_value(self.root, key)\n",
        "    return deleted\n",
        "\n",
        "  def _delete_value(self, node, key):\n",
        "    # node값이 비었으면 빈값과 False 반환\n",
        "    if node is None:\n",
        "      return node, False\n",
        "\n",
        "    # flag 선언\n",
        "    deleted = False\n",
        "\n",
        "    # node.data와 key값이 같으면 데이터 삭제\n",
        "    if key == node.data:\n",
        "      # flag 수정\n",
        "      deleted = True\n",
        "\n",
        "      # case3. 좌우 노드가 모두 존재할 경우\n",
        "      if node.left and node.right:\n",
        "\n",
        "        # 해당 노드와 right 자식 노드를 받음\n",
        "        parent, child = node, node.right\n",
        "\n",
        "        # left 자식 노드를 탐색하여 가장 작은값을 찾음\n",
        "        # left 자식 노드의 부모 노드 값을 받아둠 (재 연결을 위함)\n",
        "        while child.left is not None:\n",
        "          parent, child = child, child.left\n",
        "\n",
        "        # key값의 left 자식 노드 값을 child의 left 자식 노드에 붙임 (=가장 작은값 왼쪽에 붙임) \n",
        "        child.left = node.left\n",
        "\n",
        "        # key 노드의 right 노드가 바로 가장 작은값일 때인 상황을 고려하기 위해 넣음\n",
        "        if parent != node:\n",
        "          # 가장 작은값 부모 노드에 가장 작은값의 right 자식노드를 left 자식노드로 붙임\n",
        "          parent.left = child.right\n",
        "          # 가장 작은값 right 자식 노드에 key값에 right 자식노드를 붙임\n",
        "          child.right = node.right\n",
        "\n",
        "        # 처리 완료된 child가 node가 됨\n",
        "        node = child\n",
        "\n",
        "      # case2. 좌,우 한 노드만 존재할 경우\n",
        "      elif node.left or node.right:\n",
        "        # 자식 노드를 그대로 끌어다 놓음\n",
        "        node = node.left or node.right\n",
        "\n",
        "      # case1. 자식노드가 없을경우\n",
        "      else:\n",
        "        # 해당 값 삭제\n",
        "        node = None\n",
        "\n",
        "    # key값이 작으면 left 자식노드로\n",
        "    elif key < node.data:\n",
        "      node.left, deleted = self._delete_value(node.left, key)\n",
        "    # key값이 크면 right 자식노드로\n",
        "    else:\n",
        "      node.right, deleted = self._delete_value(node.right, key)\n",
        "\n",
        "    return node, deleted"
      ],
      "execution_count": 0,
      "outputs": []
    },
    {
      "cell_type": "markdown",
      "metadata": {
        "id": "E2DVSBWM-sKG",
        "colab_type": "text"
      },
      "source": [
        "#### 3. 실행"
      ]
    },
    {
      "cell_type": "code",
      "metadata": {
        "id": "lV3tUPj9y_tL",
        "colab_type": "code",
        "outputId": "a138180d-cb13-4fb5-bd0c-543794e53448",
        "colab": {
          "base_uri": "https://localhost:8080/",
          "height": 105
        }
      },
      "source": [
        "array = [40, 4, 34, 45, 14, 55, 48, 13, 15, 49, 47]\n",
        "bst = BinarySearchTree()\n",
        "\n",
        "for x in array:\n",
        "  bst.insert(x)\n",
        "\n",
        "# Find\n",
        "print(bst.find(15)) # True\n",
        "print(bst.find(17)) # False\n",
        "\n",
        "# Delete\n",
        "print(bst.delete(55)) # True\n",
        "print(bst.delete(14)) # True\n",
        "print(bst.delete(11)) # False"
      ],
      "execution_count": 0,
      "outputs": [
        {
          "output_type": "stream",
          "text": [
            "True\n",
            "False\n",
            "True\n",
            "True\n",
            "False\n"
          ],
          "name": "stdout"
        }
      ]
    },
    {
      "cell_type": "markdown",
      "metadata": {
        "id": "_kuHY4zwgkI_",
        "colab_type": "text"
      },
      "source": [
        "## 5월 13일 알고리즘 수업"
      ]
    },
    {
      "cell_type": "markdown",
      "metadata": {
        "id": "Lwhpgch9gouL",
        "colab_type": "text"
      },
      "source": [
        "### 1. B-트리 알고리즘\n",
        "#### [B-Tree 특성]\n",
        "##### 1.root node가 leaf node인 경우를 제외하고는 항상 최소 2개의 children을 가진다.\n",
        "##### 2. root node와 leaf node를 제외한 모든 node 들은 최소 [M/2], 최대 M개의 서브트리를 가진다.\n",
        "##### 3. 모든 leaf node 들은 같은 level에 있어야한다.\n",
        "##### 4. 새로운 key값은 leaf node에 삽입된다.\n",
        "##### 5. node 내의 key 값들은 오름차순이다.\n",
        "##### 6. leaf node는 최소 [M/2]-1개의 key를 가지고 있어야한다.\n",
        "---------\n",
        "\n",
        "- 리프 노드 : 자식 노드가 없는 노드\n",
        "- https://potatoggg.tistory.com/174\n",
        "- https://gist.github.com/natekupp/1763661"
      ]
    },
    {
      "cell_type": "markdown",
      "metadata": {
        "id": "HmjXaE495XSU",
        "colab_type": "text"
      },
      "source": [
        "#### BTreeNode class \n",
        "##### B-Tree의 검색, 삽입, 삭제 함수 구현\n",
        "------\n",
        "##### 1. 초기화\n",
        "##### 1.1 루트, 리프노드 초기화 함수\n",
        "##### 1.2 로그 print 함수\n",
        "##### 1.3 b-tree의 무결성을 확인하는 함수\n",
        "------\n",
        "##### 2. 검색\n",
        "##### 2.1 val값을 받아 BTree 내에서 찾는 함수\n",
        "------\n",
        "##### 3. 삽입\n",
        "##### 3.1 val값을 삽입해주는 함수\n",
        "##### 3.2 오버플로우 발생 시 노드 분할 함수\n",
        "------\n",
        "##### 4. 삭제\n",
        "##### 4.1 val값을 삭제해주는 함수\n",
        "##### 4.2 언더플로우시 재조정해주는 함수\n",
        "##### 4.3 재조정시 병합해주는 함수\n",
        "##### 4.4 재조정시 최솟값을 구해주는 함수\n",
        "##### 4.5 병합시 최댓값을 구해주는 함수"
      ]
    },
    {
      "cell_type": "code",
      "metadata": {
        "id": "Lfmv63ecV_7k",
        "colab_type": "code",
        "colab": {}
      },
      "source": [
        "# bisect : 정렬된 리스트를 삽입 후에 다시 정렬할 필요 없도록 관리해주는 라이브러리\n",
        "# https://docs.python.org/ko/dev/library/bisect.html\n",
        "import bisect\n",
        "\n",
        "class _BTreeNode(object):\n",
        "    # 1. 초기화\n",
        "    def __init__(self, values=None, children=None):\n",
        "        # parent :  루트 노드\n",
        "        # values : 리프 노드\n",
        "        # children : 키 값, 자식 값\n",
        "        self.parent = None\n",
        "        self.values = values or []\n",
        "        self.children = children\n",
        "\n",
        "        # 값 업데이트시 재정렬 (삽입,삭제)\n",
        "        if self.children:\n",
        "            for i in self.children:\n",
        "                i.parent = self\n",
        "\n",
        "    # 1. 초기화 (값 출력1)\n",
        "    def __str__(self):\n",
        "        return 'Node(%x, %x, %r, %d)' % (\n",
        "                id(self),\n",
        "                id(self.parent),\n",
        "                self.values,\n",
        "                len(self.children) if self.children else 0)\n",
        "        \n",
        "    # 1. 초기화 (값 출력2)    \n",
        "    def pretty_print(self, tab=''):\n",
        "        print('%s%s' % (tab, self))\n",
        "        if self.children:\n",
        "            for i in self.children:\n",
        "                i.pretty_print(tab + '   ')\n",
        "\n",
        "    # 1. 초기화 (무결성 확인 : 재귀적으로 b-tree의 무결성을 확인)\n",
        "    def check_valid(self, tree):\n",
        "        # innerNode : 리프 노드\n",
        "        # rootnode : 루트 노드\n",
        "        innerNode = self.children is not None\n",
        "        rootNode = self.parent is None\n",
        "\n",
        "        # assert : 조건이 true여야 실행, false면 error\n",
        "        # values에 값이 있다는 가정\n",
        "        assert(self.values is not None)\n",
        "\n",
        "        # 노드들의 최솟값 확인 (루트노드 제외)\n",
        "        if not rootNode and innerNode:\n",
        "            assert(tree.min_values <= len(self.values))\n",
        "\n",
        "        # 노드들의 최댓값 확인\n",
        "        assert(len(self.values) <= tree.max_values)\n",
        "\n",
        "        # 루트노드가 리프노드가 아닌경우 최소 2명의 자식 값이 있어야함\n",
        "        if rootNode and innerNode:\n",
        "            assert(len(self.children) >= 2)\n",
        "\n",
        "        # k개의 자식이 있는 리프 노드가 아닌경우 k-1개가 포함되어 있어야함\n",
        "        if innerNode:\n",
        "            assert((len(self.values) + 1) == len(self.children))\n",
        "        \n",
        "        # 값이 정렬되어 있는지 확인\n",
        "        prev = None\n",
        "        for i in self.values:\n",
        "            if prev is not None:\n",
        "                assert(i > prev)\n",
        "            prev = i\n",
        "\n",
        "        if self.children:\n",
        "            for i in self.children:\n",
        "                assert(i.parent is self)\n",
        "                i.check_valid(tree)\n",
        "\n",
        "\n",
        "    # 2. 검색\n",
        "    def search(self, val):\n",
        "        # values에서 찾고자하는 val의 위치를 찾음\n",
        "        i = bisect.bisect_left(self.values, val)\n",
        "        # 찾은 index i가 마지막 index가 아니고,(못찾음)\n",
        "        # 해당값보다 작지않을 때 ( == 같을 때) 찾음\n",
        "        if (i != len(self.values) and not val < self.values[i]):\n",
        "            # 해당 값과 val값을 비교\n",
        "            # 동일하면 return\n",
        "            assert(self.values[i] == val)\n",
        "            return (True, self, i)            \n",
        "\n",
        "        # 만약 자식 값이 더 존재한다면 실행\n",
        "        if self.children is not None:\n",
        "            # 리프 노드 값을 재귀적으로 검색\n",
        "            assert(len(self.children) >= i and self.children[i])\n",
        "            return self.children[i].search(val)\n",
        "        else:\n",
        "            return (False, self, i)\n",
        "   \n",
        "    # 3. 삽입\n",
        "    def add(self, tree, val, slot=None, childNodes=None):\n",
        "        # 모든 삽입은 리프 노드에서 이뤄져야함\n",
        "        # 부모 노드에게 재귀적으로 호출 (무결성 확인)\n",
        "        # 노드 분할 결과 중간값을 부모노드에게 보냄\n",
        "        assert(self.children is None or childNodes)\n",
        "\n",
        "        # 리프노드에 값이 있을 때,\n",
        "        innerNode = self.children is not None\n",
        "        if innerNode:\n",
        "            assert(childNodes and len(childNodes) == 2)\n",
        "        else:\n",
        "            assert(childNodes is None)\n",
        "        \n",
        "        # 삽입할 위치를 찾지못한 경우, 다음에서 찾음\n",
        "        if slot is None:\n",
        "            slot = bisect.bisect_left(self.values, val)\n",
        "\n",
        "        # 현재 노드값에 삽입할 수 있는지 확인\n",
        "        if len(self.values) < tree.max_values:\n",
        "            self.values.insert(slot, val)\n",
        "            tree.size += 1\n",
        "            if childNodes:\n",
        "                # 추가하려는 노드에서 부모를 참조하여 업데이트\n",
        "                for i in childNodes:\n",
        "                    i.parent = self\n",
        "                self.children[slot:slot + 1] = childNodes\n",
        "            # 작업 완료\n",
        "            return True\n",
        "        \n",
        "        # 현재 노드가 가득찼으면 분할\n",
        "        self._split_node(tree, val, slot, childNodes)\n",
        "        return True\n",
        "\n",
        "    # 3. 삽입 (값 삽입시 분할)\n",
        "    def _split_node(self, tree, val=None, slot=None, childNodes=None):\n",
        "        assert(val is None or (slot is not None))\n",
        "\n",
        "        midList = [] if val is None else [ val ]\n",
        "        if slot is None:\n",
        "            slot = 0\n",
        "\n",
        "        # 중앙값을 구함\n",
        "        splitValues = self.values[0:slot] + midList + self.values[slot:]\n",
        "        medianIdx = len(splitValues) // 2\n",
        "        \n",
        "        lv = splitValues[0:medianIdx]\n",
        "        medianVal = splitValues[medianIdx]\n",
        "        rv = splitValues[medianIdx + 1:]\n",
        "        \n",
        "        innerNode = self.children is not None\n",
        "\n",
        "        if innerNode:\n",
        "            if childNodes is not None:\n",
        "                splitChildren = (self.children[0:slot] + \n",
        "                                 list(childNodes) + \n",
        "                                 self.children[slot + 1:])\n",
        "            else:\n",
        "                splitChildren = self.children\n",
        "            lc = splitChildren[0:len(lv) + 1]\n",
        "            rc = splitChildren[len(lv) + 1:]\n",
        "        else:\n",
        "            lc = None\n",
        "            rc = None\n",
        "\n",
        "        leftNode = _BTreeNode(lv, lc)\n",
        "        rightNode = _BTreeNode(rv, rc)\n",
        "\n",
        "        if self.parent:\n",
        "            self.parent.add(tree,\n",
        "                            medianVal,\n",
        "                            None,\n",
        "                            (leftNode, rightNode))\n",
        "        else:\n",
        "            # 새로운 루트노드를 만들고 트리의 깊이를 증가함\n",
        "            newRoot = _BTreeNode([ medianVal ], [leftNode, rightNode])\n",
        "            leftNode.parent = newRoot\n",
        "            rightNode.parent = newRoot\n",
        "            tree.root = newRoot\n",
        "            tree.height += 1\n",
        "            tree.size += 1\n",
        "\n",
        "    # 4. 삭제 (삭제시 노드의 최솟값을 구함)\n",
        "    def min_value(self, slot=0):\n",
        "        if self.children:\n",
        "            return self.children[slot].min_value()\n",
        "        return self.values[0], self, 0\n",
        "    # 4. 삭제 (재조정시 노드의 최댓값을 구함)\n",
        "    def max_value(self, slot=None):\n",
        "        if slot is None:\n",
        "            slot = len(self.values) - 1\n",
        "        if self.children:\n",
        "            return self.children[slot + 1].max_value()\n",
        "        return self.values[-1], self, len(self.values) - 1\n",
        "\n",
        "\n",
        "    # 4. 삭제\n",
        "    def delete(self, tree, val, slot=None):\n",
        "\n",
        "        innerNode = self.children is not None        \n",
        "        if slot is None:\n",
        "            assert(slot is not None)\n",
        "            slot = bisect.bisect_left(self.values, val)\n",
        "        \n",
        "        assert(slot != len(self.values) and self.values[slot] == val)\n",
        "        \n",
        "        if not innerNode:\n",
        "            # 앞에서 삭제를 수행\n",
        "            del self.values[slot]\n",
        "            tree.size -= 1\n",
        "            if len(self.values) < tree.min_values:\n",
        "                # 리프 노드에서 언더플로우 발생시 재조정\n",
        "                self._rebalance(tree)\n",
        "        else:\n",
        "            # 오른쪽 하위트리에서 최소값을 찾음\n",
        "            # val을 대체하기 위해 구분 기호를 사용\n",
        "            newSep, node, idx = self.min_value(slot + 1)\n",
        "            self.values[slot] = newSep\n",
        "            del node.values[idx]\n",
        "            tree.size -= 1\n",
        "            if len(node.values) < tree.min_values:\n",
        "                node._rebalance(tree)\n",
        "\n",
        "    # 4. 삭제 (삭제 후 언더플로우일 때 재조정)\n",
        "    def _rebalance(self, tree):\n",
        "        lsibling, rsibling, idx = self.get_siblings()\n",
        "        \n",
        "        # 루트노드에 형제가 없을때\n",
        "        assert(rsibling or lsibling or self.parent is None)\n",
        "\n",
        "        if self.parent is None:\n",
        "            # 루트노드만을 위한 처리\n",
        "            return\n",
        "\n",
        "        innerNode = self.children is not None\n",
        "        if innerNode:\n",
        "            assert(rsibling is None or rsibling.children is not None)\n",
        "            assert(lsibling is None or lsibling.children is not None)\n",
        "        else:\n",
        "            assert(rsibling is None or rsibling.children is None)\n",
        "            assert(lsibling is None or lsibling.children is None)\n",
        "\n",
        "        if not innerNode:\n",
        "            if rsibling and len(rsibling.values) > tree.min_values:\n",
        "                sepIdx = idx\n",
        "                sepVal = self.parent.values[sepIdx]\n",
        "                # 왼쪽 형제 리프노드에서 값을 빌려옴\n",
        "                self.parent.values[sepIdx] = rsibling.values[0]\n",
        "                del rsibling.values[0]\n",
        "                self.values.append(sepVal)\n",
        "                return\n",
        "            elif lsibling and len(lsibling.values) > tree.min_values:\n",
        "                sepIdx = idx - 1\n",
        "                sepVal = self.parent.values[sepIdx]\n",
        "                # 오른쪽 형제 리프노드에서 값을 빌려옴\n",
        "                self.parent.values[sepIdx] = lsibling.values[-1]\n",
        "                del lsibling.values[-1]\n",
        "                self.values.insert(0, sepVal)\n",
        "                return\n",
        "                \n",
        "        # 2개를 병합해야할 때\n",
        "        if lsibling is not None:\n",
        "            sepIdx = idx - 1\n",
        "            ln = lsibling\n",
        "            rn = self\n",
        "        elif rsibling is not None:\n",
        "            sepIdx = idx\n",
        "            ln = self\n",
        "            rn = rsibling\n",
        "        else:\n",
        "            assert(False)\n",
        "        \n",
        "        sepVal = self.parent.values[sepIdx]\n",
        "\n",
        "        ln.values.append(sepVal)\n",
        "        ln.values.extend(rn.values)\n",
        "        del rn.values[:]\n",
        "        del self.parent.values[sepIdx]\n",
        "        assert(self.parent.children[sepIdx + 1] is rn)\n",
        "        del self.parent.children[sepIdx + 1]\n",
        "        if rn.children:\n",
        "            ln.children.extend(rn.children)\n",
        "            for i in rn.children:\n",
        "                i.parent = ln\n",
        "\n",
        "        if len(ln.values) > tree.max_values:\n",
        "            # 새로 형성된 노드를 분할해야 함\n",
        "            # 내부 노드를 병합할 때만 발생\n",
        "            assert(innerNode)\n",
        "            ln._split_node(tree)\n",
        "\n",
        "        if len(self.parent.values) < tree.min_values:\n",
        "            # rebalance the parent\n",
        "            self.parent._rebalance(tree)            \n",
        "\n",
        "        if self.parent.parent is None and not self.parent.values:\n",
        "            tree.root = ln\n",
        "            tree.root.parent = None\n",
        "\n",
        "    # 4. 삭제 (재조정시 양쪽 인접노드를 가져옴)\n",
        "    def get_siblings(self):\n",
        "        if not self.parent:\n",
        "            # 형제가 없는 노드\n",
        "            return (None, None, 0)\n",
        "\n",
        "        assert(self.parent.children)\n",
        "\n",
        "        lsibling = None\n",
        "        rsibling = None\n",
        "        idx = 0\n",
        "\n",
        "        for i, j in enumerate(self.parent.children):\n",
        "            if j is self:\n",
        "                if i != 0:\n",
        "                    lsibling = self.parent.children[i - 1]\n",
        "                if (i + 1) < len(self.parent.children):\n",
        "                    rsibling = self.parent.children[i + 1]\n",
        "                idx = i  \n",
        "                break\n",
        "\n",
        "        return (lsibling, rsibling, idx)"
      ],
      "execution_count": 0,
      "outputs": []
    },
    {
      "cell_type": "markdown",
      "metadata": {
        "id": "HurvYCbD72j3",
        "colab_type": "text"
      },
      "source": [
        "#### 2. BTree class\n",
        "##### B-Tree의 작동 구현"
      ]
    },
    {
      "cell_type": "code",
      "metadata": {
        "id": "I9LDYXITZPld",
        "colab_type": "code",
        "colab": {}
      },
      "source": [
        "class BTree(object):\n",
        "    \n",
        "    # B-Tree의 초기값을 설정\n",
        "    def __init__(self, order):\n",
        "        if order <= 2:\n",
        "            raise ValueError(\"B-tree order must be at least 3\")\n",
        "        self.root = _BTreeNode()\n",
        "        self.order = order\n",
        "        self.max_values = order - 1\n",
        "        self.min_values = self.max_values // 2\n",
        "        self.height = 1\n",
        "        self.size = 0\n",
        "        \n",
        "    def __str__(self):\n",
        "        return 'height: %d items: %d m: %d root: %x' % (\n",
        "                                    self.height, self.size,\n",
        "                                    self.max_values + 1,\n",
        "                                    id(self.root))\n",
        "\n",
        "    # 값 추가\n",
        "    def add(self, val):\n",
        "        # 값을 추가할 리프 노드를 찾음\n",
        "        found, node, slot = self.root.search(val)\n",
        "        if found:\n",
        "            # 값이 이미 존재하므로 추가 못함\n",
        "            return False\n",
        "        return node.add(self, val, slot, None)\n",
        "\n",
        "    # 값 삭제\n",
        "    def delete(self, val):\n",
        "        # 값을 삭제할 리프 노드를 찾음\n",
        "        found, node, slot = self.root.search(val)\n",
        "        if not found:\n",
        "            # 값이 존재하지않아 삭제 못함\n",
        "            return False\n",
        "        return node.delete(self, val, slot)\n",
        "\n",
        "    # 값 찾기\n",
        "    def search(self, val):\n",
        "        return self.root.search(val)[0]\n",
        "\n",
        "    def min(self):\n",
        "        return self.root.min_value()[0]\n",
        "\n",
        "    def max(self):\n",
        "        return self.root.max_value()[0]\n",
        "    "
      ],
      "execution_count": 0,
      "outputs": []
    },
    {
      "cell_type": "markdown",
      "metadata": {
        "id": "fOl9q6z-9btL",
        "colab_type": "text"
      },
      "source": [
        "#### 3. 실행"
      ]
    },
    {
      "cell_type": "code",
      "metadata": {
        "id": "KpiZ-g_6ZPoo",
        "colab_type": "code",
        "outputId": "f1b3e1f4-0c31-438f-e577-93f2160ad373",
        "colab": {
          "base_uri": "https://localhost:8080/",
          "height": 372
        }
      },
      "source": [
        "# B트리 생성, 노드 크기의 최솟값 설정\n",
        "# k = 5\n",
        "tree = BTree(5)\n",
        "\n",
        "# 삽입\n",
        "a = [1,2,3,4,6,7,8,10,13,15,17,19,20,25,27,28,30,33,34,37,38,40,41,45]\n",
        "\n",
        "print(\"삽입 시작!\")\n",
        "\n",
        "for i in a:\n",
        "    tree.add(i)\n",
        "    assert(tree.search(i))\n",
        "\n",
        "print(\"삽입 완료!\")\n",
        "print(\"--------------------------------------------------------------\")\n",
        "\n",
        "# 검색\n",
        "print(\"검색 시작!\")\n",
        "\n",
        "for i in a:\n",
        "    assert(tree.search(i))\n",
        "    \n",
        "tree.root.pretty_print()\n",
        "tree.root.check_valid(tree)\n",
        "\n",
        "print(\"검색 완료!\")\n",
        "print(\"--------------------------------------------------------------\")\n",
        "\n",
        "\n",
        "# 삭제\n",
        "print(\"삭제 시작!\")\n",
        "\n",
        "for i in a:\n",
        "    tree.delete(i)\n",
        "    tree.root.check_valid(tree)\n",
        "print(\"삭제 완료!\")\n",
        "print(\"--------------------------------------------------------------\")\n"
      ],
      "execution_count": 0,
      "outputs": [
        {
          "output_type": "stream",
          "text": [
            "삽입 시작!\n",
            "삽입 완료!\n",
            "--------------------------------------------------------------\n",
            "검색 시작!\n",
            "Node(7fd08d9e97b8, 9d4380, [13], 2)\n",
            "   Node(7fd08d9e92e8, 7fd08d9e97b8, [3, 7], 3)\n",
            "      Node(7fd08d9e9080, 7fd08d9e92e8, [1, 2], 0)\n",
            "      Node(7fd08d9e9470, 7fd08d9e92e8, [4, 6], 0)\n",
            "      Node(7fd08d9e9390, 7fd08d9e92e8, [8, 10], 0)\n",
            "   Node(7fd08d9e9fd0, 7fd08d9e97b8, [19, 27, 33, 38], 5)\n",
            "      Node(7fd08d9e9a90, 7fd08d9e9fd0, [15, 17], 0)\n",
            "      Node(7fd08d9e9860, 7fd08d9e9fd0, [20, 25], 0)\n",
            "      Node(7fd08d9e99b0, 7fd08d9e9fd0, [28, 30], 0)\n",
            "      Node(7fd08d9e9c88, 7fd08d9e9fd0, [34, 37], 0)\n",
            "      Node(7fd08d9d9c18, 7fd08d9e9fd0, [40, 41, 45], 0)\n",
            "검색 완료!\n",
            "--------------------------------------------------------------\n",
            "삭제 시작!\n",
            "삭제 완료!\n",
            "--------------------------------------------------------------\n"
          ],
          "name": "stdout"
        }
      ]
    },
    {
      "cell_type": "markdown",
      "metadata": {
        "id": "oLBWRXr4_6tA",
        "colab_type": "text"
      },
      "source": [
        "결과값을 시각화하면 다음과 같다.\n",
        "\n",
        "![대체 텍스트](https://postfiles.pstatic.net/MjAyMDA1MjNfMTU5/MDAxNTkwMTc4MjAxNDcw.U8TIrAgwwpodoM4AZrI6BlTmPzMmPt323GVZvDuoewMg.gLM4Sw-f8UP-MnEgwJLPr_kyOTBdqhMbT4Sf9Epr_U0g.PNG.dnjswns2280/b_tree.PNG?type=w773)"
      ]
    },
    {
      "cell_type": "markdown",
      "metadata": {
        "id": "UzKRVYRWzqAq",
        "colab_type": "text"
      },
      "source": [
        "## 5월 20일 알고리즘 수업"
      ]
    },
    {
      "cell_type": "markdown",
      "metadata": {
        "id": "w38-n0Svzt2h",
        "colab_type": "text"
      },
      "source": [
        "### 행렬 경로 알고리즘 (재귀호출)"
      ]
    },
    {
      "cell_type": "code",
      "metadata": {
        "id": "nGCLVCXG0VaL",
        "colab_type": "code",
        "colab": {}
      },
      "source": [
        "def matrixPath(arr,i,j):\n",
        "  if i == 0 and j == 0:\n",
        "    return arr[0][0]\n",
        "\n",
        "  elif i == 0:\n",
        "    return arr[i][j] + matrixPath(arr,i,j-1)\n",
        "\n",
        "  elif j == 0:\n",
        "    return arr[i][j] + matrixPath(arr,i-1,j)\n",
        "\n",
        "  else:\n",
        "    return arr[i][j] + max(matrixPath(arr, i-1, j), matrixPath(arr, i, j-1))"
      ],
      "execution_count": 0,
      "outputs": []
    },
    {
      "cell_type": "code",
      "metadata": {
        "id": "Wdn2-NPi3wrq",
        "colab_type": "code",
        "outputId": "f08ec6c8-a18f-4f15-d200-e3385db372ed",
        "colab": {
          "base_uri": "https://localhost:8080/",
          "height": 34
        }
      },
      "source": [
        "arr = [[6,7,12,5],\n",
        "      [5,3,11,18],\n",
        "      [7,17,3,3],\n",
        "      [8,10,14,9]]\n",
        "\n",
        "max_value = matrixPath(arr,3,3)\n",
        "print('최댓값:',max_value)"
      ],
      "execution_count": 0,
      "outputs": [
        {
          "output_type": "stream",
          "text": [
            "최댓값: 68\n"
          ],
          "name": "stdout"
        }
      ]
    },
    {
      "cell_type": "markdown",
      "metadata": {
        "id": "-ySfko8z9AQS",
        "colab_type": "text"
      },
      "source": [
        "### 행렬 경로 알고리즘 (동적 프로그래밍)"
      ]
    },
    {
      "cell_type": "code",
      "metadata": {
        "id": "ZVS_aByl5a3R",
        "colab_type": "code",
        "colab": {}
      },
      "source": [
        "def matrixPath(n):\n",
        "\n",
        "  for i in range(1,len(n)):\n",
        "    for j in range(1,len(n)):\n",
        "      n[0][0] = n[i][j] + max(n[i-1][j], n[i][j-1])\n",
        "      \n",
        "  return n[0][0]"
      ],
      "execution_count": 0,
      "outputs": []
    },
    {
      "cell_type": "code",
      "metadata": {
        "id": "_OQaI656A2rf",
        "colab_type": "code",
        "outputId": "8c5989ef-141b-45c8-cccb-34238aadab65",
        "colab": {
          "base_uri": "https://localhost:8080/",
          "height": 34
        }
      },
      "source": [
        "arr = [[6,7,12,5],\n",
        "      [5,3,11,18],\n",
        "      [7,17,3,3],\n",
        "      [8,10,14,9]]\n",
        "\n",
        "max_value = matrixPath(arr)\n",
        "print('최댓값:',max_value)"
      ],
      "execution_count": 0,
      "outputs": [
        {
          "output_type": "stream",
          "text": [
            "최댓값: 23\n"
          ],
          "name": "stdout"
        }
      ]
    },
    {
      "cell_type": "markdown",
      "metadata": {
        "id": "vKJzfK9S4GS6",
        "colab_type": "text"
      },
      "source": [
        "## 6월 3일 알고리즘 수업"
      ]
    },
    {
      "cell_type": "markdown",
      "metadata": {
        "id": "j5a15gRX4N6i",
        "colab_type": "text"
      },
      "source": [
        "### 돌 놓기 문제"
      ]
    },
    {
      "cell_type": "code",
      "metadata": {
        "id": "jAiUUcg8mS7w",
        "colab_type": "code",
        "colab": {
          "base_uri": "https://localhost:8080/",
          "height": 175
        },
        "outputId": "467d65e4-4807-4a83-b120-011ee7936de2"
      },
      "source": [
        "import numpy as np\n",
        "\n",
        "w = [[6, -8, 11],[7, 10, 12], [12, 14, 7],\n",
        "      [-5, 9, 4], [5, 7, 8], [3, 13, -2],\n",
        "      [11, 8, 9], [3, 5, 4]]\n",
        "\n",
        "# p 다음에 올 패턴을 케이스별로 나눔\n",
        "def getAvailPat(p):\n",
        "    if p == 1:\n",
        "        return 2, 3\n",
        "\n",
        "    elif p == 2:\n",
        "        return 1, 3, 4\n",
        "\n",
        "    elif p == 3:\n",
        "        return 1, 2\n",
        "\n",
        "    else:\n",
        "        return (2,)\n",
        "\n",
        "# 패턴을 받아서 해당하는 값을 반환\n",
        "def getPatVal(i, p):\n",
        "\n",
        "    global w\n",
        "\n",
        "    if p == 1:\n",
        "        return w[i][0]\n",
        "\n",
        "    elif p == 2:\n",
        "        return w[i][1]\n",
        "\n",
        "    elif p == 3:\n",
        "        return w[i][2]\n",
        "\n",
        "    else:\n",
        "        return w[i][0]+w[i][2]\n",
        "\n",
        "def pebble (i, p):\n",
        "\n",
        "    if i == 0:\n",
        "        return getPatVal(0, p)\n",
        "\n",
        "    else:\n",
        "        # pats : 다음에 올 값\n",
        "        maxVal = 0\n",
        "        pats = getAvailPat(p)\n",
        "\n",
        "        for q in range(1, 5):\n",
        "            if q in pats:\n",
        "                tmp = pebble(i-1, q)\n",
        "                if tmp > maxVal:\n",
        "                    maxVal = tmp\n",
        "\n",
        "    return maxVal+getPatVal(i, p)\n",
        "\n",
        "def dp_pebble (n):\n",
        "\n",
        "    peb = np.zeros((n+1, 4))\n",
        "\n",
        "    for p in range(1, 5):\n",
        "        peb[0][p-1] = getPatVal(0, p)\n",
        "\n",
        "    # 큰 값을 리턴함\n",
        "    for i in range(1, n+1):      \n",
        "        for p in getAvailPat(np.argmax(peb[i-1])+1):        \n",
        "            peb[i][p-1] = max(peb[i-1]) + getPatVal(i, p)\n",
        "\n",
        "    return max(peb[n-1]), peb\n",
        "\n",
        "        \n",
        "maxVal, peb = dp_pebble(7)\n",
        "print(maxVal)\n",
        "print(peb)"
      ],
      "execution_count": 11,
      "outputs": [
        {
          "output_type": "stream",
          "text": [
            "101.0\n",
            "[[  6.  -8.  11.  17.]\n",
            " [  0.  27.   0.   0.]\n",
            " [ 39.   0.  34.  46.]\n",
            " [  0.  55.   0.   0.]\n",
            " [ 60.   0.  63.  68.]\n",
            " [  0.  81.   0.   0.]\n",
            " [ 92.   0.  90. 101.]\n",
            " [  0. 106.   0.   0.]]\n"
          ],
          "name": "stdout"
        }
      ]
    },
    {
      "cell_type": "code",
      "metadata": {
        "id": "51sTEWpFmS92",
        "colab_type": "code",
        "colab": {}
      },
      "source": [
        ""
      ],
      "execution_count": 0,
      "outputs": []
    }
  ]
}