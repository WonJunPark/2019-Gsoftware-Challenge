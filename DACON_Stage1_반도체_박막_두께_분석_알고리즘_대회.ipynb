{
  "nbformat": 4,
  "nbformat_minor": 0,
  "metadata": {
    "colab": {
      "name": "DACON Stage1 반도체 박막 두께 분석 알고리즘 대회.ipynb",
      "provenance": [],
      "collapsed_sections": [],
      "toc_visible": true,
      "include_colab_link": true
    },
    "kernelspec": {
      "display_name": "Python 3",
      "name": "python3"
    }
  },
  "cells": [
    {
      "cell_type": "markdown",
      "metadata": {
        "id": "view-in-github",
        "colab_type": "text"
      },
      "source": [
        "<a href=\"https://colab.research.google.com/github/WonJunPark/2019-Gsoftware-Challenge/blob/master/DACON_Stage1_%EB%B0%98%EB%8F%84%EC%B2%B4_%EB%B0%95%EB%A7%89_%EB%91%90%EA%BB%98_%EB%B6%84%EC%84%9D_%EC%95%8C%EA%B3%A0%EB%A6%AC%EC%A6%98_%EB%8C%80%ED%9A%8C.ipynb\" target=\"_parent\"><img src=\"https://colab.research.google.com/assets/colab-badge.svg\" alt=\"Open In Colab\"/></a>"
      ]
    },
    {
      "cell_type": "markdown",
      "metadata": {
        "id": "VuT7lky2F9-S",
        "colab_type": "text"
      },
      "source": [
        "DACON Stage1 반도체 박막 두께 분석 알고리즘 대회"
      ]
    },
    {
      "cell_type": "code",
      "metadata": {
        "id": "RwQrxW0SGxky",
        "colab_type": "code",
        "colab": {}
      },
      "source": [
        "import pandas as pd\n",
        "import warnings\n",
        "warnings.filterwarnings('ignore')"
      ],
      "execution_count": 0,
      "outputs": []
    },
    {
      "cell_type": "code",
      "metadata": {
        "id": "zRPeA3LmF8vL",
        "colab_type": "code",
        "outputId": "67c94746-4cf4-49de-a7de-6534bee2ff1a",
        "colab": {
          "base_uri": "https://localhost:8080/",
          "height": 124
        }
      },
      "source": [
        "from google.colab import drive\n",
        "drive.mount('/content/gdrive')"
      ],
      "execution_count": 2,
      "outputs": [
        {
          "output_type": "stream",
          "text": [
            "Go to this URL in a browser: https://accounts.google.com/o/oauth2/auth?client_id=947318989803-6bn6qk8qdgf4n4g3pfee6491hc0brc4i.apps.googleusercontent.com&redirect_uri=urn%3aietf%3awg%3aoauth%3a2.0%3aoob&response_type=code&scope=email%20https%3a%2f%2fwww.googleapis.com%2fauth%2fdocs.test%20https%3a%2f%2fwww.googleapis.com%2fauth%2fdrive%20https%3a%2f%2fwww.googleapis.com%2fauth%2fdrive.photos.readonly%20https%3a%2f%2fwww.googleapis.com%2fauth%2fpeopleapi.readonly\n",
            "\n",
            "Enter your authorization code:\n",
            "··········\n",
            "Mounted at /content/gdrive\n"
          ],
          "name": "stdout"
        }
      ]
    },
    {
      "cell_type": "code",
      "metadata": {
        "id": "gmaS2NnwGY6y",
        "colab_type": "code",
        "outputId": "1d441a20-e9a7-4b58-a6d7-878f3a03c1a7",
        "colab": {
          "base_uri": "https://localhost:8080/",
          "height": 52
        }
      },
      "source": [
        "!ls \"/content/gdrive/My Drive/semiconductor"
      ],
      "execution_count": 7,
      "outputs": [
        {
          "output_type": "stream",
          "text": [
            "/bin/bash: -c: line 0: unexpected EOF while looking for matching `\"'\n",
            "/bin/bash: -c: line 1: syntax error: unexpected end of file\n"
          ],
          "name": "stdout"
        }
      ]
    },
    {
      "cell_type": "code",
      "metadata": {
        "id": "jjodPEv4GaRW",
        "colab_type": "code",
        "outputId": "fed75fe6-e063-4461-cd9e-8f7d79b7e51b",
        "colab": {
          "base_uri": "https://localhost:8080/",
          "height": 34
        }
      },
      "source": [
        "cd /content/gdrive/My Drive/semiconductor"
      ],
      "execution_count": 8,
      "outputs": [
        {
          "output_type": "stream",
          "text": [
            "/content/gdrive/My Drive/semiconductor\n"
          ],
          "name": "stdout"
        }
      ]
    },
    {
      "cell_type": "code",
      "metadata": {
        "id": "BR37By5hGaTn",
        "colab_type": "code",
        "outputId": "b5090107-1d7a-4ec7-cf4d-cc782f341480",
        "colab": {
          "base_uri": "https://localhost:8080/",
          "height": 245
        }
      },
      "source": [
        "train = pd.read_csv(\"train.csv\")\n",
        "train.head()"
      ],
      "execution_count": 9,
      "outputs": [
        {
          "output_type": "execute_result",
          "data": {
            "text/html": [
              "<div>\n",
              "<style scoped>\n",
              "    .dataframe tbody tr th:only-of-type {\n",
              "        vertical-align: middle;\n",
              "    }\n",
              "\n",
              "    .dataframe tbody tr th {\n",
              "        vertical-align: top;\n",
              "    }\n",
              "\n",
              "    .dataframe thead th {\n",
              "        text-align: right;\n",
              "    }\n",
              "</style>\n",
              "<table border=\"1\" class=\"dataframe\">\n",
              "  <thead>\n",
              "    <tr style=\"text-align: right;\">\n",
              "      <th></th>\n",
              "      <th>layer_1</th>\n",
              "      <th>layer_2</th>\n",
              "      <th>layer_3</th>\n",
              "      <th>layer_4</th>\n",
              "      <th>0</th>\n",
              "      <th>1</th>\n",
              "      <th>2</th>\n",
              "      <th>3</th>\n",
              "      <th>4</th>\n",
              "      <th>5</th>\n",
              "      <th>6</th>\n",
              "      <th>7</th>\n",
              "      <th>8</th>\n",
              "      <th>9</th>\n",
              "      <th>10</th>\n",
              "      <th>11</th>\n",
              "      <th>12</th>\n",
              "      <th>13</th>\n",
              "      <th>14</th>\n",
              "      <th>15</th>\n",
              "      <th>16</th>\n",
              "      <th>17</th>\n",
              "      <th>18</th>\n",
              "      <th>19</th>\n",
              "      <th>20</th>\n",
              "      <th>21</th>\n",
              "      <th>22</th>\n",
              "      <th>23</th>\n",
              "      <th>24</th>\n",
              "      <th>25</th>\n",
              "      <th>26</th>\n",
              "      <th>27</th>\n",
              "      <th>28</th>\n",
              "      <th>29</th>\n",
              "      <th>30</th>\n",
              "      <th>31</th>\n",
              "      <th>32</th>\n",
              "      <th>33</th>\n",
              "      <th>34</th>\n",
              "      <th>35</th>\n",
              "      <th>...</th>\n",
              "      <th>186</th>\n",
              "      <th>187</th>\n",
              "      <th>188</th>\n",
              "      <th>189</th>\n",
              "      <th>190</th>\n",
              "      <th>191</th>\n",
              "      <th>192</th>\n",
              "      <th>193</th>\n",
              "      <th>194</th>\n",
              "      <th>195</th>\n",
              "      <th>196</th>\n",
              "      <th>197</th>\n",
              "      <th>198</th>\n",
              "      <th>199</th>\n",
              "      <th>200</th>\n",
              "      <th>201</th>\n",
              "      <th>202</th>\n",
              "      <th>203</th>\n",
              "      <th>204</th>\n",
              "      <th>205</th>\n",
              "      <th>206</th>\n",
              "      <th>207</th>\n",
              "      <th>208</th>\n",
              "      <th>209</th>\n",
              "      <th>210</th>\n",
              "      <th>211</th>\n",
              "      <th>212</th>\n",
              "      <th>213</th>\n",
              "      <th>214</th>\n",
              "      <th>215</th>\n",
              "      <th>216</th>\n",
              "      <th>217</th>\n",
              "      <th>218</th>\n",
              "      <th>219</th>\n",
              "      <th>220</th>\n",
              "      <th>221</th>\n",
              "      <th>222</th>\n",
              "      <th>223</th>\n",
              "      <th>224</th>\n",
              "      <th>225</th>\n",
              "    </tr>\n",
              "  </thead>\n",
              "  <tbody>\n",
              "    <tr>\n",
              "      <th>0</th>\n",
              "      <td>10</td>\n",
              "      <td>10</td>\n",
              "      <td>10</td>\n",
              "      <td>10</td>\n",
              "      <td>0.254551</td>\n",
              "      <td>0.258823</td>\n",
              "      <td>0.254659</td>\n",
              "      <td>0.252085</td>\n",
              "      <td>0.247678</td>\n",
              "      <td>0.253614</td>\n",
              "      <td>0.246511</td>\n",
              "      <td>0.259407</td>\n",
              "      <td>0.260862</td>\n",
              "      <td>0.242524</td>\n",
              "      <td>0.253870</td>\n",
              "      <td>0.245156</td>\n",
              "      <td>0.245548</td>\n",
              "      <td>0.255501</td>\n",
              "      <td>0.228948</td>\n",
              "      <td>0.228632</td>\n",
              "      <td>0.225802</td>\n",
              "      <td>0.249418</td>\n",
              "      <td>0.246910</td>\n",
              "      <td>0.248747</td>\n",
              "      <td>0.251088</td>\n",
              "      <td>0.244886</td>\n",
              "      <td>0.233906</td>\n",
              "      <td>0.242632</td>\n",
              "      <td>0.221792</td>\n",
              "      <td>0.236521</td>\n",
              "      <td>0.220555</td>\n",
              "      <td>0.243761</td>\n",
              "      <td>0.230202</td>\n",
              "      <td>0.226122</td>\n",
              "      <td>0.220671</td>\n",
              "      <td>0.235075</td>\n",
              "      <td>0.224560</td>\n",
              "      <td>0.226998</td>\n",
              "      <td>0.209499</td>\n",
              "      <td>0.226594</td>\n",
              "      <td>...</td>\n",
              "      <td>0.160126</td>\n",
              "      <td>0.164192</td>\n",
              "      <td>0.171406</td>\n",
              "      <td>0.162364</td>\n",
              "      <td>0.168591</td>\n",
              "      <td>0.166626</td>\n",
              "      <td>0.169696</td>\n",
              "      <td>0.196383</td>\n",
              "      <td>0.194145</td>\n",
              "      <td>0.190646</td>\n",
              "      <td>0.186797</td>\n",
              "      <td>0.191748</td>\n",
              "      <td>0.190886</td>\n",
              "      <td>0.208518</td>\n",
              "      <td>0.211220</td>\n",
              "      <td>0.229286</td>\n",
              "      <td>0.226265</td>\n",
              "      <td>0.226954</td>\n",
              "      <td>0.229023</td>\n",
              "      <td>0.237112</td>\n",
              "      <td>0.262421</td>\n",
              "      <td>0.262566</td>\n",
              "      <td>0.272062</td>\n",
              "      <td>0.292049</td>\n",
              "      <td>0.305353</td>\n",
              "      <td>0.292889</td>\n",
              "      <td>0.317479</td>\n",
              "      <td>0.316911</td>\n",
              "      <td>0.321371</td>\n",
              "      <td>0.355636</td>\n",
              "      <td>0.354750</td>\n",
              "      <td>0.369223</td>\n",
              "      <td>0.388184</td>\n",
              "      <td>0.408496</td>\n",
              "      <td>0.414564</td>\n",
              "      <td>0.429403</td>\n",
              "      <td>0.419225</td>\n",
              "      <td>0.443250</td>\n",
              "      <td>0.433414</td>\n",
              "      <td>0.465502</td>\n",
              "    </tr>\n",
              "    <tr>\n",
              "      <th>1</th>\n",
              "      <td>10</td>\n",
              "      <td>10</td>\n",
              "      <td>10</td>\n",
              "      <td>20</td>\n",
              "      <td>0.205062</td>\n",
              "      <td>0.225544</td>\n",
              "      <td>0.217758</td>\n",
              "      <td>0.202169</td>\n",
              "      <td>0.199633</td>\n",
              "      <td>0.207380</td>\n",
              "      <td>0.191318</td>\n",
              "      <td>0.195369</td>\n",
              "      <td>0.200536</td>\n",
              "      <td>0.197588</td>\n",
              "      <td>0.198726</td>\n",
              "      <td>0.191803</td>\n",
              "      <td>0.199625</td>\n",
              "      <td>0.206465</td>\n",
              "      <td>0.182836</td>\n",
              "      <td>0.193341</td>\n",
              "      <td>0.180459</td>\n",
              "      <td>0.196416</td>\n",
              "      <td>0.185398</td>\n",
              "      <td>0.188913</td>\n",
              "      <td>0.176011</td>\n",
              "      <td>0.173457</td>\n",
              "      <td>0.182249</td>\n",
              "      <td>0.176816</td>\n",
              "      <td>0.192716</td>\n",
              "      <td>0.185924</td>\n",
              "      <td>0.183816</td>\n",
              "      <td>0.186900</td>\n",
              "      <td>0.161040</td>\n",
              "      <td>0.173525</td>\n",
              "      <td>0.172948</td>\n",
              "      <td>0.182634</td>\n",
              "      <td>0.161153</td>\n",
              "      <td>0.158073</td>\n",
              "      <td>0.152335</td>\n",
              "      <td>0.148293</td>\n",
              "      <td>...</td>\n",
              "      <td>0.327076</td>\n",
              "      <td>0.331195</td>\n",
              "      <td>0.337722</td>\n",
              "      <td>0.340189</td>\n",
              "      <td>0.342748</td>\n",
              "      <td>0.351925</td>\n",
              "      <td>0.372989</td>\n",
              "      <td>0.389663</td>\n",
              "      <td>0.396216</td>\n",
              "      <td>0.384977</td>\n",
              "      <td>0.383701</td>\n",
              "      <td>0.403894</td>\n",
              "      <td>0.406382</td>\n",
              "      <td>0.429342</td>\n",
              "      <td>0.409908</td>\n",
              "      <td>0.439307</td>\n",
              "      <td>0.432569</td>\n",
              "      <td>0.439114</td>\n",
              "      <td>0.459541</td>\n",
              "      <td>0.454988</td>\n",
              "      <td>0.475268</td>\n",
              "      <td>0.478575</td>\n",
              "      <td>0.483466</td>\n",
              "      <td>0.496912</td>\n",
              "      <td>0.499542</td>\n",
              "      <td>0.522705</td>\n",
              "      <td>0.524767</td>\n",
              "      <td>0.533952</td>\n",
              "      <td>0.558729</td>\n",
              "      <td>0.572470</td>\n",
              "      <td>0.557203</td>\n",
              "      <td>0.573656</td>\n",
              "      <td>0.587998</td>\n",
              "      <td>0.612754</td>\n",
              "      <td>0.627825</td>\n",
              "      <td>0.633393</td>\n",
              "      <td>0.637706</td>\n",
              "      <td>0.625981</td>\n",
              "      <td>0.653231</td>\n",
              "      <td>0.637853</td>\n",
              "    </tr>\n",
              "    <tr>\n",
              "      <th>2</th>\n",
              "      <td>10</td>\n",
              "      <td>10</td>\n",
              "      <td>10</td>\n",
              "      <td>30</td>\n",
              "      <td>0.189196</td>\n",
              "      <td>0.165869</td>\n",
              "      <td>0.177655</td>\n",
              "      <td>0.156822</td>\n",
              "      <td>0.175094</td>\n",
              "      <td>0.177755</td>\n",
              "      <td>0.157582</td>\n",
              "      <td>0.158885</td>\n",
              "      <td>0.156911</td>\n",
              "      <td>0.166162</td>\n",
              "      <td>0.148831</td>\n",
              "      <td>0.144950</td>\n",
              "      <td>0.151362</td>\n",
              "      <td>0.145110</td>\n",
              "      <td>0.159201</td>\n",
              "      <td>0.139296</td>\n",
              "      <td>0.145313</td>\n",
              "      <td>0.156555</td>\n",
              "      <td>0.145363</td>\n",
              "      <td>0.150352</td>\n",
              "      <td>0.150542</td>\n",
              "      <td>0.142990</td>\n",
              "      <td>0.139572</td>\n",
              "      <td>0.145669</td>\n",
              "      <td>0.144514</td>\n",
              "      <td>0.126263</td>\n",
              "      <td>0.112832</td>\n",
              "      <td>0.117535</td>\n",
              "      <td>0.111473</td>\n",
              "      <td>0.117545</td>\n",
              "      <td>0.107058</td>\n",
              "      <td>0.119299</td>\n",
              "      <td>0.110768</td>\n",
              "      <td>0.124217</td>\n",
              "      <td>0.124496</td>\n",
              "      <td>0.110023</td>\n",
              "      <td>...</td>\n",
              "      <td>0.525450</td>\n",
              "      <td>0.532645</td>\n",
              "      <td>0.539097</td>\n",
              "      <td>0.527091</td>\n",
              "      <td>0.531925</td>\n",
              "      <td>0.530325</td>\n",
              "      <td>0.551716</td>\n",
              "      <td>0.556125</td>\n",
              "      <td>0.567470</td>\n",
              "      <td>0.549711</td>\n",
              "      <td>0.566789</td>\n",
              "      <td>0.574313</td>\n",
              "      <td>0.569873</td>\n",
              "      <td>0.574390</td>\n",
              "      <td>0.601672</td>\n",
              "      <td>0.584206</td>\n",
              "      <td>0.602981</td>\n",
              "      <td>0.598708</td>\n",
              "      <td>0.615189</td>\n",
              "      <td>0.637023</td>\n",
              "      <td>0.626458</td>\n",
              "      <td>0.645439</td>\n",
              "      <td>0.629203</td>\n",
              "      <td>0.640967</td>\n",
              "      <td>0.652762</td>\n",
              "      <td>0.660495</td>\n",
              "      <td>0.676498</td>\n",
              "      <td>0.674599</td>\n",
              "      <td>0.693535</td>\n",
              "      <td>0.699182</td>\n",
              "      <td>0.699864</td>\n",
              "      <td>0.708688</td>\n",
              "      <td>0.721982</td>\n",
              "      <td>0.713464</td>\n",
              "      <td>0.743030</td>\n",
              "      <td>0.741709</td>\n",
              "      <td>0.747743</td>\n",
              "      <td>0.746037</td>\n",
              "      <td>0.737356</td>\n",
              "      <td>0.750391</td>\n",
              "    </tr>\n",
              "    <tr>\n",
              "      <th>3</th>\n",
              "      <td>10</td>\n",
              "      <td>10</td>\n",
              "      <td>10</td>\n",
              "      <td>40</td>\n",
              "      <td>0.131003</td>\n",
              "      <td>0.120076</td>\n",
              "      <td>0.138975</td>\n",
              "      <td>0.117931</td>\n",
              "      <td>0.130566</td>\n",
              "      <td>0.131262</td>\n",
              "      <td>0.126962</td>\n",
              "      <td>0.134453</td>\n",
              "      <td>0.106717</td>\n",
              "      <td>0.127309</td>\n",
              "      <td>0.099958</td>\n",
              "      <td>0.112908</td>\n",
              "      <td>0.106853</td>\n",
              "      <td>0.108288</td>\n",
              "      <td>0.101393</td>\n",
              "      <td>0.094074</td>\n",
              "      <td>0.086854</td>\n",
              "      <td>0.099669</td>\n",
              "      <td>0.107276</td>\n",
              "      <td>0.091117</td>\n",
              "      <td>0.084525</td>\n",
              "      <td>0.078293</td>\n",
              "      <td>0.076476</td>\n",
              "      <td>0.078559</td>\n",
              "      <td>0.072960</td>\n",
              "      <td>0.075898</td>\n",
              "      <td>0.067963</td>\n",
              "      <td>0.066055</td>\n",
              "      <td>0.087904</td>\n",
              "      <td>0.065373</td>\n",
              "      <td>0.075469</td>\n",
              "      <td>0.080097</td>\n",
              "      <td>0.068895</td>\n",
              "      <td>0.058148</td>\n",
              "      <td>0.057882</td>\n",
              "      <td>0.063258</td>\n",
              "      <td>...</td>\n",
              "      <td>0.616934</td>\n",
              "      <td>0.638654</td>\n",
              "      <td>0.630914</td>\n",
              "      <td>0.647135</td>\n",
              "      <td>0.629796</td>\n",
              "      <td>0.644114</td>\n",
              "      <td>0.641825</td>\n",
              "      <td>0.645360</td>\n",
              "      <td>0.653030</td>\n",
              "      <td>0.656335</td>\n",
              "      <td>0.657734</td>\n",
              "      <td>0.678019</td>\n",
              "      <td>0.676713</td>\n",
              "      <td>0.681540</td>\n",
              "      <td>0.673333</td>\n",
              "      <td>0.686743</td>\n",
              "      <td>0.697500</td>\n",
              "      <td>0.702650</td>\n",
              "      <td>0.693750</td>\n",
              "      <td>0.711013</td>\n",
              "      <td>0.714411</td>\n",
              "      <td>0.701010</td>\n",
              "      <td>0.726972</td>\n",
              "      <td>0.719394</td>\n",
              "      <td>0.726329</td>\n",
              "      <td>0.730821</td>\n",
              "      <td>0.740062</td>\n",
              "      <td>0.747356</td>\n",
              "      <td>0.749405</td>\n",
              "      <td>0.766173</td>\n",
              "      <td>0.764786</td>\n",
              "      <td>0.763788</td>\n",
              "      <td>0.770017</td>\n",
              "      <td>0.787571</td>\n",
              "      <td>0.778866</td>\n",
              "      <td>0.776969</td>\n",
              "      <td>0.774712</td>\n",
              "      <td>0.801526</td>\n",
              "      <td>0.805305</td>\n",
              "      <td>0.784057</td>\n",
              "    </tr>\n",
              "    <tr>\n",
              "      <th>4</th>\n",
              "      <td>10</td>\n",
              "      <td>10</td>\n",
              "      <td>10</td>\n",
              "      <td>50</td>\n",
              "      <td>0.091033</td>\n",
              "      <td>0.086893</td>\n",
              "      <td>0.108125</td>\n",
              "      <td>0.080405</td>\n",
              "      <td>0.105917</td>\n",
              "      <td>0.077083</td>\n",
              "      <td>0.097895</td>\n",
              "      <td>0.086765</td>\n",
              "      <td>0.078676</td>\n",
              "      <td>0.075729</td>\n",
              "      <td>0.086023</td>\n",
              "      <td>0.070649</td>\n",
              "      <td>0.078957</td>\n",
              "      <td>0.072772</td>\n",
              "      <td>0.069867</td>\n",
              "      <td>0.080523</td>\n",
              "      <td>0.068273</td>\n",
              "      <td>0.074660</td>\n",
              "      <td>0.069852</td>\n",
              "      <td>0.047442</td>\n",
              "      <td>0.067855</td>\n",
              "      <td>0.049580</td>\n",
              "      <td>0.068737</td>\n",
              "      <td>0.041386</td>\n",
              "      <td>0.048697</td>\n",
              "      <td>0.040278</td>\n",
              "      <td>0.050234</td>\n",
              "      <td>0.059371</td>\n",
              "      <td>0.042581</td>\n",
              "      <td>0.037117</td>\n",
              "      <td>0.041503</td>\n",
              "      <td>0.055113</td>\n",
              "      <td>0.034001</td>\n",
              "      <td>0.035846</td>\n",
              "      <td>0.030385</td>\n",
              "      <td>0.048935</td>\n",
              "      <td>...</td>\n",
              "      <td>0.670888</td>\n",
              "      <td>0.692846</td>\n",
              "      <td>0.673025</td>\n",
              "      <td>0.704448</td>\n",
              "      <td>0.696657</td>\n",
              "      <td>0.697524</td>\n",
              "      <td>0.692513</td>\n",
              "      <td>0.714224</td>\n",
              "      <td>0.696880</td>\n",
              "      <td>0.716361</td>\n",
              "      <td>0.723607</td>\n",
              "      <td>0.720018</td>\n",
              "      <td>0.715039</td>\n",
              "      <td>0.705079</td>\n",
              "      <td>0.720913</td>\n",
              "      <td>0.723440</td>\n",
              "      <td>0.719858</td>\n",
              "      <td>0.729948</td>\n",
              "      <td>0.731360</td>\n",
              "      <td>0.728861</td>\n",
              "      <td>0.740501</td>\n",
              "      <td>0.738362</td>\n",
              "      <td>0.749341</td>\n",
              "      <td>0.738456</td>\n",
              "      <td>0.768791</td>\n",
              "      <td>0.770292</td>\n",
              "      <td>0.766630</td>\n",
              "      <td>0.779970</td>\n",
              "      <td>0.787695</td>\n",
              "      <td>0.766521</td>\n",
              "      <td>0.786677</td>\n",
              "      <td>0.802271</td>\n",
              "      <td>0.806557</td>\n",
              "      <td>0.799614</td>\n",
              "      <td>0.789333</td>\n",
              "      <td>0.804087</td>\n",
              "      <td>0.787763</td>\n",
              "      <td>0.794948</td>\n",
              "      <td>0.819105</td>\n",
              "      <td>0.801781</td>\n",
              "    </tr>\n",
              "  </tbody>\n",
              "</table>\n",
              "<p>5 rows × 230 columns</p>\n",
              "</div>"
            ],
            "text/plain": [
              "   layer_1  layer_2  layer_3  layer_4  ...       222       223       224       225\n",
              "0       10       10       10       10  ...  0.419225  0.443250  0.433414  0.465502\n",
              "1       10       10       10       20  ...  0.637706  0.625981  0.653231  0.637853\n",
              "2       10       10       10       30  ...  0.747743  0.746037  0.737356  0.750391\n",
              "3       10       10       10       40  ...  0.774712  0.801526  0.805305  0.784057\n",
              "4       10       10       10       50  ...  0.787763  0.794948  0.819105  0.801781\n",
              "\n",
              "[5 rows x 230 columns]"
            ]
          },
          "metadata": {
            "tags": []
          },
          "execution_count": 9
        }
      ]
    },
    {
      "cell_type": "code",
      "metadata": {
        "id": "g0BX-UumGaV9",
        "colab_type": "code",
        "colab": {}
      },
      "source": [
        "# Test 데이터를 불러옵니다.\n",
        "test = pd.read_csv('test.csv')"
      ],
      "execution_count": 0,
      "outputs": []
    },
    {
      "cell_type": "code",
      "metadata": {
        "id": "M4nAFknTG9hL",
        "colab_type": "code",
        "colab": {}
      },
      "source": [
        "#독립변수와 종속변수를 분리합니다.\n",
        "train_X = train.iloc[:,4:]  #Train 데이터의 독립변수\n",
        "train_Y = train.iloc[:,0:4] #Train 데이터의 종속변수\n",
        "test_X = test.iloc[:,1:]    #Test  데이터의 독립변수"
      ],
      "execution_count": 0,
      "outputs": []
    },
    {
      "cell_type": "markdown",
      "metadata": {
        "id": "ghIlw0SIvkF1",
        "colab_type": "text"
      },
      "source": [
        "1/13\n",
        "첫번째 시도.\n",
        "\n",
        "모델 3층\n",
        "\n",
        "score : 54.2431\n",
        "\n",
        "------------"
      ]
    },
    {
      "cell_type": "markdown",
      "metadata": {
        "id": "w3nyojnwvnli",
        "colab_type": "text"
      },
      "source": [
        "\n",
        "두번째 시도. \n",
        "\n",
        "모델 6층 \n",
        "\n",
        "score : 58.5697\n",
        "\n",
        "-----------"
      ]
    },
    {
      "cell_type": "markdown",
      "metadata": {
        "id": "TtSF7aapvsjw",
        "colab_type": "text"
      },
      "source": [
        "세번째 시도.\n",
        "\n",
        "모델 6층/ epochs 200\n",
        "\n",
        "특이사항 : 137회에서 오버피팅\n",
        "\n",
        "score : 40.1392\n",
        "\n",
        "----------"
      ]
    },
    {
      "cell_type": "markdown",
      "metadata": {
        "id": "tgwo7MJsz_yG",
        "colab_type": "text"
      },
      "source": [
        "1/14\n",
        "네번째 시도.\n",
        "\n",
        "모델 6층/ dropout 0.5추가/ epochs 200\n",
        "\n",
        "특이사항 : 10회에서 오버피팅\n",
        "\n",
        "score : @\n",
        "\n",
        "----------"
      ]
    },
    {
      "cell_type": "markdown",
      "metadata": {
        "id": "a34Vv0OH2Ury",
        "colab_type": "text"
      },
      "source": [
        "다섯번째 시도.\n",
        "\n",
        "모델 6층/ l1,l2 규제 추가/ epochs 200\n",
        "\n",
        "특이사항 : 꾸준히 내려감, 추후 epochs 늘려볼 것 // mse 55\n",
        "\n",
        "score : @\n",
        "\n",
        "----------"
      ]
    },
    {
      "cell_type": "markdown",
      "metadata": {
        "id": "DJv_FGbl3e66",
        "colab_type": "text"
      },
      "source": [
        "여섯번째 시도.\n",
        "\n",
        "모델 6층/ dropout 0.5/ l1,l2 규제 추가/ epochs 200\n",
        "\n",
        "특이사항 : 꾸준히 내려감 역시 mse 55\n",
        "\n",
        "score : @\n",
        "\n",
        "----------"
      ]
    },
    {
      "cell_type": "code",
      "metadata": {
        "id": "5BYP80jBG9kN",
        "colab_type": "code",
        "colab": {}
      },
      "source": [
        "#4\n",
        "import keras\n",
        "from keras import layers\n",
        "from keras import regularizers\n",
        "from keras.models import Sequential\n",
        "from keras.layers import Dense\n",
        "model = Sequential()\n",
        "model.add(Dense(units=128, activation='relu', input_dim=226))\n",
        "model.add(layers.Dropout(0.5))\n",
        "model.add(Dense(units=64, activation='relu'))\n",
        "model.add(layers.Dropout(0.5))\n",
        "model.add(Dense(units=32, activation='relu'))\n",
        "model.add(layers.Dropout(0.5))\n",
        "model.add(Dense(units=16, activation='relu'))\n",
        "model.add(layers.Dropout(0.5))\n",
        "model.add(Dense(units=8, activation='relu'))\n",
        "model.add(layers.Dropout(0.5))\n",
        "model.add(Dense(units=4, activation='linear'))"
      ],
      "execution_count": 0,
      "outputs": []
    },
    {
      "cell_type": "code",
      "metadata": {
        "id": "lJ3LApMd31DO",
        "colab_type": "code",
        "colab": {}
      },
      "source": [
        "#5\n",
        "import keras\n",
        "from keras import layers\n",
        "from keras import regularizers\n",
        "from keras.models import Sequential\n",
        "from keras.layers import Dense\n",
        "model = Sequential()\n",
        "model.add(Dense(units=128, activation='relu', input_dim=226))\n",
        "model.add(Dense(units=64, kernel_regularizer= regularizers.l1_l2(l1=0.001, l2=0.001), activation='relu'))\n",
        "model.add(Dense(units=32, kernel_regularizer= regularizers.l1_l2(l1=0.001, l2=0.001), activation='relu'))\n",
        "model.add(Dense(units=16, kernel_regularizer= regularizers.l1_l2(l1=0.001, l2=0.001), activation='relu'))\n",
        "model.add(Dense(units=8, kernel_regularizer= regularizers.l1_l2(l1=0.001, l2=0.001), activation='relu'))\n",
        "model.add(Dense(units=4, activation='linear'))"
      ],
      "execution_count": 0,
      "outputs": []
    },
    {
      "cell_type": "code",
      "metadata": {
        "id": "nsdKJGbR32aP",
        "colab_type": "code",
        "colab": {}
      },
      "source": [
        "#6\n",
        "import keras\n",
        "from keras import layers\n",
        "from keras import regularizers\n",
        "from keras.models import Sequential\n",
        "from keras.layers import Dense\n",
        "model = Sequential()\n",
        "model.add(Dense(units=128, activation='relu', input_dim=226))\n",
        "model.add(Dense(units=64, kernel_regularizer= regularizers.l1_l2(l1=0.001, l2=0.001), activation='relu'))\n",
        "model.add(Dense(units=32, kernel_regularizer= regularizers.l1_l2(l1=0.001, l2=0.001), activation='relu'))\n",
        "model.add(Dense(units=16, kernel_regularizer= regularizers.l1_l2(l1=0.001, l2=0.001), activation='relu'))\n",
        "model.add(Dense(units=8, kernel_regularizer= regularizers.l1_l2(l1=0.001, l2=0.001), activation='relu'))\n",
        "model.add(Dense(units=4, activation='linear'))"
      ],
      "execution_count": 0,
      "outputs": []
    },
    {
      "cell_type": "code",
      "metadata": {
        "id": "PwZvqLrfG9mq",
        "colab_type": "code",
        "colab": {}
      },
      "source": [
        "#모델을 컴파일합니다.\n",
        "model.compile(loss='mae', optimizer='adam', metrics=['mae'])"
      ],
      "execution_count": 0,
      "outputs": []
    },
    {
      "cell_type": "code",
      "metadata": {
        "id": "fyanjDKoG9ek",
        "colab_type": "code",
        "outputId": "75b9a20b-b181-45fd-df70-a2f5b4ead152",
        "colab": {
          "base_uri": "https://localhost:8080/",
          "height": 246
        }
      },
      "source": [
        "model.fit(train_X, train_Y, epochs=5, batch_size=10000, validation_split = 0.05)"
      ],
      "execution_count": 80,
      "outputs": [
        {
          "output_type": "stream",
          "text": [
            "Train on 769500 samples, validate on 40500 samples\n",
            "Epoch 1/5\n",
            "769500/769500 [==============================] - 8s 10us/step - loss: 37.6454 - mean_absolute_error: 36.5466 - val_loss: 48.0801 - val_mean_absolute_error: 46.9813\n",
            "Epoch 2/5\n",
            "769500/769500 [==============================] - 8s 10us/step - loss: 37.6569 - mean_absolute_error: 36.5579 - val_loss: 50.2030 - val_mean_absolute_error: 49.1038\n",
            "Epoch 3/5\n",
            "769500/769500 [==============================] - 8s 10us/step - loss: 37.6700 - mean_absolute_error: 36.5708 - val_loss: 50.7719 - val_mean_absolute_error: 49.6727\n",
            "Epoch 4/5\n",
            "769500/769500 [==============================] - 8s 10us/step - loss: 37.5525 - mean_absolute_error: 36.4531 - val_loss: 49.5056 - val_mean_absolute_error: 48.4062\n",
            "Epoch 5/5\n",
            "769500/769500 [==============================] - 8s 10us/step - loss: 37.5955 - mean_absolute_error: 36.4959 - val_loss: 48.9527 - val_mean_absolute_error: 47.8529\n"
          ],
          "name": "stdout"
        },
        {
          "output_type": "execute_result",
          "data": {
            "text/plain": [
              "<keras.callbacks.History at 0x7f02ba7dd4a8>"
            ]
          },
          "metadata": {
            "tags": []
          },
          "execution_count": 80
        }
      ]
    },
    {
      "cell_type": "code",
      "metadata": {
        "id": "O0ZjVIbwHMCA",
        "colab_type": "code",
        "colab": {}
      },
      "source": [
        "#예측값을 생성합니다.\n",
        "pred_test = model.predict(test_X)"
      ],
      "execution_count": 0,
      "outputs": []
    },
    {
      "cell_type": "code",
      "metadata": {
        "id": "dqXnLhTLHME3",
        "colab_type": "code",
        "colab": {}
      },
      "source": [
        "#submission 파일을 생성합니다.\n",
        "sample_sub = pd.read_csv('sample_submission.csv', index_col=0)\n",
        "submission = sample_sub+pred_test"
      ],
      "execution_count": 0,
      "outputs": []
    },
    {
      "cell_type": "code",
      "metadata": {
        "id": "f6tEms-fMRAr",
        "colab_type": "code",
        "colab": {}
      },
      "source": [
        "submission.to_csv('200114_submission_500.csv')"
      ],
      "execution_count": 0,
      "outputs": []
    },
    {
      "cell_type": "code",
      "metadata": {
        "id": "lOaGHrMBQnmb",
        "colab_type": "code",
        "colab": {}
      },
      "source": [
        " "
      ],
      "execution_count": 0,
      "outputs": []
    }
  ]
}