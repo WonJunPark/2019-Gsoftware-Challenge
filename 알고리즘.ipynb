{
  "nbformat": 4,
  "nbformat_minor": 0,
  "metadata": {
    "colab": {
      "name": "알고리즘.ipynb",
      "provenance": [],
      "collapsed_sections": [],
      "include_colab_link": true
    },
    "kernelspec": {
      "display_name": "Python 3",
      "name": "python3"
    }
  },
  "cells": [
    {
      "cell_type": "markdown",
      "metadata": {
        "id": "view-in-github",
        "colab_type": "text"
      },
      "source": [
        "<a href=\"https://colab.research.google.com/github/WonJunPark/2019-Gsoftware-Challenge/blob/master/%EC%95%8C%EA%B3%A0%EB%A6%AC%EC%A6%98.ipynb\" target=\"_parent\"><img src=\"https://colab.research.google.com/assets/colab-badge.svg\" alt=\"Open In Colab\"/></a>"
      ]
    },
    {
      "cell_type": "markdown",
      "metadata": {
        "id": "UWFbRXyemasD",
        "colab_type": "text"
      },
      "source": [
        "## 4월 8일 알고리즘 수업\n",
        "- 김우성 교수님"
      ]
    },
    {
      "cell_type": "markdown",
      "metadata": {
        "id": "KYVqim89mgia",
        "colab_type": "text"
      },
      "source": [
        "### 선택정렬"
      ]
    },
    {
      "cell_type": "code",
      "metadata": {
        "id": "XRj8xFs7XvWG",
        "colab_type": "code",
        "outputId": "d6280e03-e471-493b-e3a9-717ed8ec66b3",
        "colab": {
          "base_uri": "https://localhost:8080/",
          "height": 123
        }
      },
      "source": [
        "a = [29,10,14,37,13]\n",
        "n = len(a)\n",
        "result = selectionSort(a,n)\n",
        "print('선택정렬 결과 :',result)"
      ],
      "execution_count": 0,
      "outputs": [
        {
          "output_type": "stream",
          "text": [
            "loop.. :  [29, 10, 14, 13, 37]\n",
            "loop.. :  [13, 10, 14, 29, 37]\n",
            "loop.. :  [13, 10, 14, 29, 37]\n",
            "loop.. :  [10, 13, 14, 29, 37]\n",
            "loop.. :  [10, 13, 14, 29, 37]\n",
            "선택정렬 결과 : [10, 13, 14, 29, 37]\n"
          ],
          "name": "stdout"
        }
      ]
    },
    {
      "cell_type": "code",
      "metadata": {
        "id": "bO8ESqmHXvYc",
        "colab_type": "code",
        "colab": {}
      },
      "source": [
        "def selectionSort(a,n):\n",
        "\n",
        "  max_ = a[0]\n",
        "\n",
        "  for i in range(n-1,-1,-1):\n",
        "    # 4~0 까지 루프\n",
        "    # 최댓값 인댁스\n",
        "    max_index = i\n",
        "\n",
        "    # 최댓값 인덱스 찾기\n",
        "    for j in range(0,i):\n",
        "      if a[j] > a[max_index]:\n",
        "        max_index = j\n",
        "    \n",
        "    # 스위치\n",
        "    a[i], a[max_index] = a[max_index], a[i]\n",
        "    print('loop.. : ',a)\n",
        "  \n",
        "  return a"
      ],
      "execution_count": 0,
      "outputs": []
    },
    {
      "cell_type": "markdown",
      "metadata": {
        "id": "F12E-_jntcVY",
        "colab_type": "text"
      },
      "source": [
        "### 병합정렬"
      ]
    },
    {
      "cell_type": "code",
      "metadata": {
        "id": "VE9087kyzdXb",
        "colab_type": "code",
        "outputId": "09102153-008d-4b0b-c485-39e666f248d5",
        "colab": {
          "base_uri": "https://localhost:8080/",
          "height": 34
        }
      },
      "source": [
        "a = [7,2,9,4,3,8,6,1]\n",
        "mergeSort(a)"
      ],
      "execution_count": 0,
      "outputs": [
        {
          "output_type": "execute_result",
          "data": {
            "text/plain": [
              "[1, 2, 3, 4, 6, 7, 8, 9]"
            ]
          },
          "metadata": {
            "tags": []
          },
          "execution_count": 76
        }
      ]
    },
    {
      "cell_type": "code",
      "metadata": {
        "id": "fds3ytxOtcBp",
        "colab_type": "code",
        "colab": {}
      },
      "source": [
        "def mergeSort(a):\n",
        "    # a의 길이가 1 이상일 때\n",
        "    if len(a)>1:\n",
        "        # 중간 지점을 구함\n",
        "        mid = len(a)//2\n",
        "\n",
        "        # 중간 지점을 기준으로 좌우를 나눔 \n",
        "        left = a[:mid]\n",
        "        right = a[mid:]\n",
        "\n",
        "        # 전반부, 후반부 정렬\n",
        "        left2 = mergeSort(left)\n",
        "        right2 = mergeSort(right)\n",
        "\n",
        "        # merge함수를 불러와서 병합\n",
        "        return merge(left2, right2)\n",
        "    else:\n",
        "        return a\n"
      ],
      "execution_count": 0,
      "outputs": []
    },
    {
      "cell_type": "code",
      "metadata": {
        "id": "H-jxMTHStcDn",
        "colab_type": "code",
        "colab": {}
      },
      "source": [
        "def merge(left, right):\n",
        "  # 임의의 두 변수를 선언\n",
        "  # 이 두값이 리스트내 값을 비교하는 지표가됨\n",
        "  i = 0\n",
        "  j = 0\n",
        "\n",
        "  # 결과값을 받은 리스트\n",
        "  merge_a = []\n",
        "\n",
        "  # 좌우를 비교하여 작은값을 결과 리스트에 추가\n",
        "  while (i<len(left)) & (j<len(right)):\n",
        "      if left[i] < right[j]:\n",
        "          merge_a.append(left[i])\n",
        "          i+=1\n",
        "      else:\n",
        "          merge_a.append(right[j])\n",
        "          j+=1\n",
        "  \n",
        "  # 나머지 값들을 결과 리스트에 추가\n",
        "  while (i<len(left)):\n",
        "      merge_a.append(left[i])\n",
        "      i+=1\n",
        "  \n",
        "  while (j<len(right)):\n",
        "      merge_a.append(right[j])\n",
        "      j+=1\n",
        "      \n",
        "  return merge_a\n",
        "    "
      ],
      "execution_count": 0,
      "outputs": []
    },
    {
      "cell_type": "markdown",
      "metadata": {
        "id": "tL0FYWk_xGkK",
        "colab_type": "text"
      },
      "source": [
        "## 4월 22일 알고리즘 수업"
      ]
    },
    {
      "cell_type": "markdown",
      "metadata": {
        "id": "B_GBjbpexKmx",
        "colab_type": "text"
      },
      "source": [
        "### 퀵 정렬"
      ]
    },
    {
      "cell_type": "code",
      "metadata": {
        "id": "aJyLUzYsxz3z",
        "colab_type": "code",
        "outputId": "6d167f43-3836-471f-f3f3-21d49c33cb63",
        "colab": {
          "base_uri": "https://localhost:8080/",
          "height": 35
        }
      },
      "source": [
        "a = [7,2,9,4,3,8,6,1]\n",
        "quick_sort(a)"
      ],
      "execution_count": 0,
      "outputs": [
        {
          "output_type": "execute_result",
          "data": {
            "text/plain": [
              "[1, 2, 3, 4, 6, 7, 8, 9]"
            ]
          },
          "metadata": {
            "tags": []
          },
          "execution_count": 14
        }
      ]
    },
    {
      "cell_type": "code",
      "metadata": {
        "id": "UAPfEr7wxxR0",
        "colab_type": "code",
        "colab": {}
      },
      "source": [
        "def quick_sort(a):\n",
        "  # a의 길이가 2 이상일 때,\n",
        "  if len(a) > 1:\n",
        "    pivot = a[0]\n",
        "    # pivot을 기준으로 작은값은 left, 크거나 같은 값은 right 변수에 담는다.\n",
        "    left = [e for e in a[1:] if e < pivot]\n",
        "    right = [e for e in a[1:] if e >= pivot]\n",
        "    # pivot을 기준으로 left, right 리스트를 병합하고 재귀함수를 실행한다.\n",
        "    return quick_sort(left) + [pivot] + quick_sort(right)\n",
        "\n",
        "  else :\n",
        "    return a"
      ],
      "execution_count": 0,
      "outputs": []
    },
    {
      "cell_type": "markdown",
      "metadata": {
        "id": "injQjG1vb7Rf",
        "colab_type": "text"
      },
      "source": [
        "## 4월 29일 알고리즘 수업"
      ]
    },
    {
      "cell_type": "markdown",
      "metadata": {
        "id": "pSs4CttpcAQt",
        "colab_type": "text"
      },
      "source": [
        "### 힙 정렬"
      ]
    },
    {
      "cell_type": "markdown",
      "metadata": {
        "id": "uElQfGsUwfjV",
        "colab_type": "text"
      },
      "source": [
        "- 힙 성질이란? 크기(우선 순위)를 중심으로 정렬\n",
        "- 힙은 한 노드가 최대 두개의 자식노드를 가지면서 마지막 레벨을 제외한 모든 레벨에서 완전 이진트리\n",
        "- 힙 구조를 만들어야 힙 정렬을 할 수 있음\n",
        "- ref1. https://lsjsj92.tistory.com/472\n",
        "- ref2. https://ratsgo.github.io/data%20structure&algorithm/2017/09/27/heapsort/"
      ]
    },
    {
      "cell_type": "markdown",
      "metadata": {
        "id": "TGHA3cK8y_BJ",
        "colab_type": "text"
      },
      "source": [
        "#### 1. 힙 정렬 함수"
      ]
    },
    {
      "cell_type": "code",
      "metadata": {
        "id": "0RYTqFaFyz9I",
        "colab_type": "code",
        "colab": {}
      },
      "source": [
        "def heap_sort(unsorted):\n",
        "    # 리스트에 전체 길이를 받음\n",
        "    n = len(unsorted)\n",
        "\n",
        "    # // 연산자 : 몫 구하기\n",
        "    # 이진트리를 구하기 때문에 전체 크기의 반만 반복\n",
        "    # for문을 거꾸로 돌아감\n",
        "    # 이진트리의 가장 아래서부터 heapifyt를 실행하여 힙 구조를 만듬\n",
        "\n",
        "    ### 첫번째 루프 따라가기\n",
        "    ### [loop1]. input shape : 8 // unsorted = [7,2,9,4,3,8,6,1]\n",
        "    ### [loop1]. for i in range(3,-1,-1)\n",
        "    for i in range(n // 2 - 1, -1, -1):\n",
        "        ### [loop1]. heapify(unsorted 리스트, i값인 3, 전체 길이 8)\n",
        "        ### [loop1]. heapify 함수로 이동\n",
        "        heapify(unsorted, i, n)\n",
        "\n",
        "    # 마지막 노드부터 루트노드를 기준으로 값을 스위치하면서 정렬\n",
        "\n",
        "    ### [loop1]. 현재 unsorted의 값 [9, 8, 7, 6, 3, 2, 4, 1]\n",
        "    ### [loop1]. for i in range(7, 0, -1)\n",
        "    for i in range(n - 1, 0, -1):\n",
        "        ### [loop1]. unsorted[0] = 1, unsorted[7] = 9\n",
        "        unsorted[0], unsorted[i] = unsorted[i], unsorted[0]\n",
        "        ### [loop1]. unsorted의 값 [1, 8, 7, 6, 3, 2, 4, 9]\n",
        "        ### [loop1]. heapify(unsorted, 0, 7)\n",
        "        ### [loop1]. 다시 heapify로 가서 정렬\n",
        "        heapify(unsorted, 0, i)\n",
        "        ### [loop1].힙 정렬 후, 역순으로 큰값을 끝으로 밀어넣어줌\n",
        "    return unsorted"
      ],
      "execution_count": 0,
      "outputs": []
    },
    {
      "cell_type": "markdown",
      "metadata": {
        "id": "bFcpCKFtws9g",
        "colab_type": "text"
      },
      "source": [
        "#### 2. 힙 구조 함수"
      ]
    },
    {
      "cell_type": "code",
      "metadata": {
        "id": "ccO25F8mb65h",
        "colab_type": "code",
        "colab": {}
      },
      "source": [
        "# 힙 성질을 확인 후 재정렬\n",
        "# unsorted : 배열, index : 인덱스, heap_size : 크기\n",
        "\n",
        "### [loop1]. heapify(a 리스트, i값인 3, 전체 길이 8)\n",
        "def heapify(unsorted, index, heap_size):\n",
        "\n",
        "    ### [loop1]. largest = 3\n",
        "    ### [loop1]. unsorted[3] = 4\n",
        "    largest = index\n",
        "\n",
        "    ### [loop1]. left_index = 6 // unsorted[6] = 6\n",
        "    ### [loop1]. right_index = 7 // unsorted[7] = 1\n",
        "    left_index = 2 * index\n",
        "    right_index = 2 * index +1\n",
        "\n",
        "    # 자식노드가 범위안에 드는지 확인, 자식노드가 부모노드보다 큰지 확인\n",
        "    # 자식노드가 부모노드보다 크다면 인덱스 스위치\n",
        "\n",
        "    ### [loop1]. unsorted[left_index] = 6, unsorted[largest] = 3\n",
        "    if left_index < heap_size and unsorted[left_index] > unsorted[largest]:\n",
        "        ### [loop1]. largest = 6\n",
        "        largest = left_index\n",
        "\n",
        "    ### [loop1]. unsorted[right_index] = 1, unsorted[largest] = 3 // fail    \n",
        "    if right_index < heap_size and unsorted[right_index] > unsorted[largest]:\n",
        "        largest = right_index\n",
        "    \n",
        "    # 부모노드의 인덱스값이 바뀌었다면 자식노드의 값과 스위치\n",
        "\n",
        "    ### [loop1]. largest = 6 , index = 3\n",
        "    if largest != index:\n",
        "        ### [loop1]. unsorted[3] = 6 , unsorted[6] = 4 스위치\n",
        "        unsorted[largest], unsorted[index] = unsorted[index], unsorted[largest]\n",
        "        # 재귀 함수\n",
        "        heapify(unsorted, largest, heap_size)"
      ],
      "execution_count": 0,
      "outputs": []
    },
    {
      "cell_type": "markdown",
      "metadata": {
        "id": "FH-pIagCzNp3",
        "colab_type": "text"
      },
      "source": [
        "#### 3. 실행"
      ]
    },
    {
      "cell_type": "code",
      "metadata": {
        "id": "9U7oBByB1fT0",
        "colab_type": "code",
        "colab": {}
      },
      "source": [
        "a = [7,2,9,4,3,8,6,1]"
      ],
      "execution_count": 0,
      "outputs": []
    },
    {
      "cell_type": "code",
      "metadata": {
        "id": "xnSU_sIezz_e",
        "colab_type": "code",
        "outputId": "1c0eba9f-b959-47d9-9222-2641d08af95f",
        "colab": {
          "base_uri": "https://localhost:8080/",
          "height": 34
        }
      },
      "source": [
        "heap_sort(a)"
      ],
      "execution_count": 0,
      "outputs": [
        {
          "output_type": "execute_result",
          "data": {
            "text/plain": [
              "[1, 2, 3, 4, 6, 7, 8, 9]"
            ]
          },
          "metadata": {
            "tags": []
          },
          "execution_count": 33
        }
      ]
    },
    {
      "cell_type": "markdown",
      "metadata": {
        "id": "ChxqH4ZJBw63",
        "colab_type": "text"
      },
      "source": [
        "## 4월 29일 과제"
      ]
    },
    {
      "cell_type": "markdown",
      "metadata": {
        "id": "ACTtTL4qB0ut",
        "colab_type": "text"
      },
      "source": [
        "### 평균 선형 시간 선택 알고리즘\n",
        "\n",
        "- ref 1. https://iredays.tistory.com/81\n",
        "- ref 2. https://yongy0ng2.tistory.com/57\n",
        "- ref 3. https://blog.naver.com/PostView.nhn?blogId=taep0q&logNo=221388928834&parentCategoryNo=&categoryNo=12&viewDate=&isShowPopularPosts=true&from=search"
      ]
    },
    {
      "cell_type": "markdown",
      "metadata": {
        "id": "NDjm3HfbnAfe",
        "colab_type": "text"
      },
      "source": [
        "#### 1. 평균 선형 시간 선택 알고리즘 함수"
      ]
    },
    {
      "cell_type": "code",
      "metadata": {
        "id": "Um5QP3ETSKdw",
        "colab_type": "code",
        "colab": {}
      },
      "source": [
        "def select(a, start, last, target):\n",
        "  # 원소가 하나뿐일 때\n",
        "  if start == last: return a[start]\n",
        "  \n",
        "  # partition 처리 후 기준 인덱스 값을 받음\n",
        "  q = partition(a, start, last)\n",
        "\n",
        "  # k : 기준 원소에서 k번째 작은 원소\n",
        "  k = q-start+1\n",
        "\n",
        "  if target < k:\n",
        "    # 왼쪽 그룹\n",
        "    return select(a, start, q-1, target)\n",
        "  elif target > k: \n",
        "    # 오른쪽 그룹\n",
        "    return select(a, q+1, last, target-k)\n",
        "  else:\n",
        "    return a[q]\n"
      ],
      "execution_count": 0,
      "outputs": []
    },
    {
      "cell_type": "markdown",
      "metadata": {
        "id": "9CQ4x795nEm1",
        "colab_type": "text"
      },
      "source": [
        "#### 2. 파티션 함수"
      ]
    },
    {
      "cell_type": "code",
      "metadata": {
        "id": "4UM6-UQIDtx1",
        "colab_type": "code",
        "colab": {}
      },
      "source": [
        "def partition(a, start, last):\n",
        "\n",
        "  pivot = a[last]\n",
        "\n",
        "  i = start - 1\n",
        "\n",
        "  for j in range(start,last):\n",
        "    if a[j] <= pivot:\n",
        "      i += 1\n",
        "      a[i], a[j] = a[j], a[i]\n",
        "\n",
        "  # 2구역의 첫 원소와 pivot값 교환\n",
        "  a[i+1], a[last] = a[last], a[i+1]\n",
        "  return i+1"
      ],
      "execution_count": 0,
      "outputs": []
    },
    {
      "cell_type": "markdown",
      "metadata": {
        "id": "eqy5WZsnnK_S",
        "colab_type": "text"
      },
      "source": [
        "#### 3. 실행"
      ]
    },
    {
      "cell_type": "code",
      "metadata": {
        "id": "FBFKTwI-6j12",
        "colab_type": "code",
        "outputId": "8c148b55-1911-435f-fa6f-a0222dfa7989",
        "colab": {
          "base_uri": "https://localhost:8080/",
          "height": 34
        }
      },
      "source": [
        "a = [31, 8, 48, 73, 11, 3, 20, 29, 65, 15]\n",
        "target = 2\n",
        "start = 0\n",
        "last = len(a)-1\n",
        "\n",
        "result = select(a, start, last, target)\n",
        "print(result)"
      ],
      "execution_count": 0,
      "outputs": [
        {
          "output_type": "stream",
          "text": [
            "8\n"
          ],
          "name": "stdout"
        }
      ]
    },
    {
      "cell_type": "markdown",
      "metadata": {
        "id": "iplIq4xKkzqr",
        "colab_type": "text"
      },
      "source": [
        "## 5월 6일 알고리즘 수업"
      ]
    },
    {
      "cell_type": "markdown",
      "metadata": {
        "id": "Zsx1yng8k4NS",
        "colab_type": "text"
      },
      "source": [
        "### 최악의 경우 선형 시간 선택 알고리즘 (선택)"
      ]
    },
    {
      "cell_type": "code",
      "metadata": {
        "id": "U7LiHOFpk2Hn",
        "colab_type": "code",
        "colab": {}
      },
      "source": [
        ""
      ],
      "execution_count": 0,
      "outputs": []
    },
    {
      "cell_type": "markdown",
      "metadata": {
        "id": "F1IPvgBtlbKt",
        "colab_type": "text"
      },
      "source": [
        "### 이진 검색 트리\n",
        "\n",
        "- 계산 복잡성은 O(logn)으로 빠르지만 자료 입력, 삭제가 불가능\n",
        "- 이진탐색트리의 핵심 연산은 검색(retreive), 삽입(insert), 삭제(delete) 세가지로 나뉨\n",
        "- 각 노드의 왼쪽 서브트리에는 해당 노드의 값보다 작은 값, 오른쪽 서브트리에는 해당 노드의 값보다 큰값이라는 가정\n",
        "- 중복된 노드가 없어야 함\n",
        "- ref1. https://ratsgo.github.io/data%20structure&algorithm/2017/10/22/bst/\n",
        "- ref2. https://geonlee.tistory.com/72"
      ]
    },
    {
      "cell_type": "markdown",
      "metadata": {
        "id": "HMLPwiFhqZjz",
        "colab_type": "text"
      },
      "source": [
        "#### 1. 클래스 정의"
      ]
    },
    {
      "cell_type": "code",
      "metadata": {
        "id": "pFOA5QelsBoF",
        "colab_type": "code",
        "colab": {}
      },
      "source": [
        "# 노드 정의 (부모 노드1, 자식 노드2)\n",
        "class Node(object):\n",
        "  def __init__(self, data):\n",
        "    # data : 부모 노드\n",
        "    self.data = data\n",
        "    # left, right : 자식 노드\n",
        "    self.left = self.right = None"
      ],
      "execution_count": 0,
      "outputs": []
    },
    {
      "cell_type": "markdown",
      "metadata": {
        "id": "SLTnmxTqzp4c",
        "colab_type": "text"
      },
      "source": [
        "#### 2. 이진 검색 트리 구현"
      ]
    },
    {
      "cell_type": "code",
      "metadata": {
        "id": "bETlCMqSy_q3",
        "colab_type": "code",
        "colab": {}
      },
      "source": [
        "class BinarySearchTree(object):\n",
        "\n",
        "  # 1. 초기화\n",
        "  def __init__(self):\n",
        "    # 최상위 노드\n",
        "    self.root = None\n",
        "\n",
        "  # 2. 삽입\n",
        "  def insert(self, data):\n",
        "    # data를 1개의 노드씩 받아서 insert_value 함수 실행\n",
        "    self.root = self._insert_value(self.root, data)\n",
        "    # 값을 넣었으면 True 반환\n",
        "    return self.root is not None\n",
        "\n",
        "  def _insert_value(self, node, data):\n",
        "    # 부모 노드가 비워져있다면 부모 노드에 추가\n",
        "    if node is None:\n",
        "      node = Node(data)\n",
        "    # 부모 노드에 값이 있다면 자식 노드에 추가\n",
        "    else:\n",
        "      # 부모 노드보다 작으면 left에 추가\n",
        "      if data < node.data:\n",
        "        node.left = self._insert_value(node.left, data)\n",
        "      # 부모 노드보다 크다면 right에 추가\n",
        "      else:\n",
        "        node.right = self._insert_value(node.right, data)\n",
        "    return node\n",
        "\n",
        "  # 3. 탐색\n",
        "  def find(self, key):\n",
        "    # 리스트에서 찾고자하는 key값을 받아서 find_value 함수 실행 (실제 값)\n",
        "    return self._find_value(self.root, key)\n",
        "\n",
        "  # 삽입 완료된 root 노드에서 해당 값을 찾음\n",
        "  def _find_value(self, root, key):\n",
        "    # root에 값이 없거나 key값과 일치하면 값을 반환\n",
        "    if root is None or root.data == key:\n",
        "      # 값을 찾았으면 True, 못찾았으면 False 반환\n",
        "      return root is not None\n",
        "\n",
        "    # key값이 부모 노드보다 작다면 left 자식 노드로\n",
        "    elif key < root.data:\n",
        "      return self._find_value(root.left, key)\n",
        "      \n",
        "    # key값이 부모 노드보다 크다면 right 자식 노드로\n",
        "    else:\n",
        "      return self._find_value(root.right, key)\n",
        "\n",
        "  # 4. 삭제\n",
        "  def delete(self, key):\n",
        "    # 리스트에서 삭제하고자하는 key값을 받아서 deletet_value 함수 실행\n",
        "    self.root, deleted = self._delete_value(self.root, key)\n",
        "    return deleted\n",
        "\n",
        "  def _delete_value(self, node, key):\n",
        "    # node값이 비었으면 빈값과 False 반환\n",
        "    if node is None:\n",
        "      return node, False\n",
        "\n",
        "    # flag 선언\n",
        "    deleted = False\n",
        "\n",
        "    # node.data와 key값이 같으면 데이터 삭제\n",
        "    if key == node.data:\n",
        "      # flag 수정\n",
        "      deleted = True\n",
        "\n",
        "      # case3. 좌우 노드가 모두 존재할 경우\n",
        "      if node.left and node.right:\n",
        "\n",
        "        # 해당 노드와 right 자식 노드를 받음\n",
        "        parent, child = node, node.right\n",
        "\n",
        "        # left 자식 노드를 탐색하여 가장 작은값을 찾음\n",
        "        # left 자식 노드의 부모 노드 값을 받아둠 (재 연결을 위함)\n",
        "        while child.left is not None:\n",
        "          parent, child = child, child.left\n",
        "\n",
        "        # key값의 left 자식 노드 값을 child의 left 자식 노드에 붙임 (=가장 작은값 왼쪽에 붙임) \n",
        "        child.left = node.left\n",
        "\n",
        "        # parent값과 node값이 다를때 실행?? 이해 안됨\n",
        "        if parent != node:\n",
        "          # 가장 작은값 부모 노드에 가장 작은값의 right 자식노드를 left 자식노드로 붙임\n",
        "          parent.left = child.right\n",
        "          # 가장 작은값 right 자식 노드에 key값에 right 자식노드를 붙임\n",
        "          child.right = node.right\n",
        "\n",
        "        # 처리 완료된 child가 node가 됨\n",
        "        node = child\n",
        "\n",
        "      # case2. 좌,우 한 노드만 존재할 경우\n",
        "      elif node.left or node.right:\n",
        "        # 자식 노드를 그대로 끌어다 놓음\n",
        "        node = node.left or node.right\n",
        "\n",
        "      # case1. 자식노드가 없을경우\n",
        "      else:\n",
        "        # 해당 값 삭제\n",
        "        node = None\n",
        "\n",
        "    # key값이 작으면 left 자식노드로\n",
        "    elif key < node.data:\n",
        "      node.left, deleted = self._delete_value(node.left, key)\n",
        "    # key값이 크면 right 자식노드로\n",
        "    else:\n",
        "      node.right, deleted = self._delete_value(node.right, key)\n",
        "\n",
        "    return node, deleted"
      ],
      "execution_count": 0,
      "outputs": []
    },
    {
      "cell_type": "markdown",
      "metadata": {
        "id": "E2DVSBWM-sKG",
        "colab_type": "text"
      },
      "source": [
        "#### 3. 실행"
      ]
    },
    {
      "cell_type": "code",
      "metadata": {
        "id": "lV3tUPj9y_tL",
        "colab_type": "code",
        "outputId": "a138180d-cb13-4fb5-bd0c-543794e53448",
        "colab": {
          "base_uri": "https://localhost:8080/",
          "height": 105
        }
      },
      "source": [
        "array = [40, 4, 34, 45, 14, 55, 48, 13, 15, 49, 47]\n",
        "bst = BinarySearchTree()\n",
        "\n",
        "for x in array:\n",
        "  bst.insert(x)\n",
        "\n",
        "# Find\n",
        "print(bst.find(15)) # True\n",
        "print(bst.find(17)) # False\n",
        "\n",
        "# Delete\n",
        "print(bst.delete(55)) # True\n",
        "print(bst.delete(14)) # True\n",
        "print(bst.delete(11)) # False"
      ],
      "execution_count": 0,
      "outputs": [
        {
          "output_type": "stream",
          "text": [
            "True\n",
            "False\n",
            "True\n",
            "True\n",
            "False\n"
          ],
          "name": "stdout"
        }
      ]
    },
    {
      "cell_type": "code",
      "metadata": {
        "id": "5Hd_gRDp6kuc",
        "colab_type": "code",
        "colab": {}
      },
      "source": [
        ""
      ],
      "execution_count": 0,
      "outputs": []
    },
    {
      "cell_type": "code",
      "metadata": {
        "id": "NHFcQvRB6kxH",
        "colab_type": "code",
        "colab": {}
      },
      "source": [
        ""
      ],
      "execution_count": 0,
      "outputs": []
    }
  ]
}