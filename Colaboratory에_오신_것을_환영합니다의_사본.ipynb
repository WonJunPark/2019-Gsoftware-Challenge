{
  "nbformat": 4,
  "nbformat_minor": 0,
  "metadata": {
    "colab": {
      "name": "Colaboratory에 오신 것을 환영합니다의 사본",
      "provenance": [],
      "collapsed_sections": [],
      "toc_visible": true,
      "include_colab_link": true
    },
    "kernelspec": {
      "display_name": "Python 3",
      "name": "python3"
    }
  },
  "cells": [
    {
      "cell_type": "markdown",
      "metadata": {
        "id": "view-in-github",
        "colab_type": "text"
      },
      "source": [
        "<a href=\"https://colab.research.google.com/github/WonJunPark/2019-Gsoftware-Challenge/blob/master/Colaboratory%EC%97%90_%EC%98%A4%EC%8B%A0_%EA%B2%83%EC%9D%84_%ED%99%98%EC%98%81%ED%95%A9%EB%8B%88%EB%8B%A4%EC%9D%98_%EC%82%AC%EB%B3%B8.ipynb\" target=\"_parent\"><img src=\"https://colab.research.google.com/assets/colab-badge.svg\" alt=\"Open In Colab\"/></a>"
      ]
    },
    {
      "cell_type": "markdown",
      "metadata": {
        "id": "UWFbRXyemasD",
        "colab_type": "text"
      },
      "source": [
        "# 200408 알고리즘 수업\n",
        "- 김우성 교수"
      ]
    },
    {
      "cell_type": "markdown",
      "metadata": {
        "id": "KYVqim89mgia",
        "colab_type": "text"
      },
      "source": [
        "## 선택정렬"
      ]
    },
    {
      "cell_type": "code",
      "metadata": {
        "id": "XRj8xFs7XvWG",
        "colab_type": "code",
        "outputId": "d6280e03-e471-493b-e3a9-717ed8ec66b3",
        "colab": {
          "base_uri": "https://localhost:8080/",
          "height": 123
        }
      },
      "source": [
        "a = [29,10,14,37,13]\n",
        "n = len(a)\n",
        "result = selectionSort(a,n)\n",
        "print('선택정렬 결과 :',result)"
      ],
      "execution_count": 0,
      "outputs": [
        {
          "output_type": "stream",
          "text": [
            "loop.. :  [29, 10, 14, 13, 37]\n",
            "loop.. :  [13, 10, 14, 29, 37]\n",
            "loop.. :  [13, 10, 14, 29, 37]\n",
            "loop.. :  [10, 13, 14, 29, 37]\n",
            "loop.. :  [10, 13, 14, 29, 37]\n",
            "선택정렬 결과 : [10, 13, 14, 29, 37]\n"
          ],
          "name": "stdout"
        }
      ]
    },
    {
      "cell_type": "code",
      "metadata": {
        "id": "bO8ESqmHXvYc",
        "colab_type": "code",
        "colab": {}
      },
      "source": [
        "def selectionSort(a,n):\n",
        "\n",
        "  max_ = a[0]\n",
        "\n",
        "  for i in range(n-1,-1,-1):\n",
        "    # 4~0 까지 루프\n",
        "    # 최댓값 인댁스\n",
        "    max_index = i\n",
        "\n",
        "    # 최댓값 인덱스 찾기\n",
        "    for j in range(0,i):\n",
        "      if a[j] > a[max_index]:\n",
        "        max_index = j\n",
        "    \n",
        "    # 스위치\n",
        "    a[i], a[max_index] = a[max_index], a[i]\n",
        "    print('loop.. : ',a)\n",
        "  \n",
        "  return a"
      ],
      "execution_count": 0,
      "outputs": []
    },
    {
      "cell_type": "markdown",
      "metadata": {
        "id": "F12E-_jntcVY",
        "colab_type": "text"
      },
      "source": [
        "## 병합정렬"
      ]
    },
    {
      "cell_type": "code",
      "metadata": {
        "id": "VE9087kyzdXb",
        "colab_type": "code",
        "outputId": "09102153-008d-4b0b-c485-39e666f248d5",
        "colab": {
          "base_uri": "https://localhost:8080/",
          "height": 34
        }
      },
      "source": [
        "a = [7,2,9,4,3,8,6,1]\n",
        "mergeSort(a)"
      ],
      "execution_count": 0,
      "outputs": [
        {
          "output_type": "execute_result",
          "data": {
            "text/plain": [
              "[1, 2, 3, 4, 6, 7, 8, 9]"
            ]
          },
          "metadata": {
            "tags": []
          },
          "execution_count": 76
        }
      ]
    },
    {
      "cell_type": "code",
      "metadata": {
        "id": "fds3ytxOtcBp",
        "colab_type": "code",
        "colab": {}
      },
      "source": [
        "def mergeSort(a):\n",
        "    # a의 길이가 1 이상일 때\n",
        "    if len(a)>1:\n",
        "        # 중간 지점을 구함\n",
        "        mid = len(a)//2\n",
        "\n",
        "        # 중간 지점을 기준으로 좌우를 나눔 \n",
        "        left = a[:mid]\n",
        "        right = a[mid:]\n",
        "\n",
        "        # 전반부, 후바부 정렬\n",
        "        left2 = mergeSort(left)\n",
        "        right2 = mergeSort(right)\n",
        "\n",
        "        # merge함수를 불러와서 병합\n",
        "        return merge(left2, right2)\n",
        "    else:\n",
        "        return a\n"
      ],
      "execution_count": 0,
      "outputs": []
    },
    {
      "cell_type": "code",
      "metadata": {
        "id": "H-jxMTHStcDn",
        "colab_type": "code",
        "colab": {}
      },
      "source": [
        "def merge(left, right):\n",
        "  # 임의의 두 변수를 선언\n",
        "  # 이 두값이 리스트내 값을 비교하는 지표가됨\n",
        "  i = 0\n",
        "  j = 0\n",
        "\n",
        "  # 결과값을 받은 리스트\n",
        "  merge_a = []\n",
        "\n",
        "  # 좌우를 비교하여 작은값을 결과 리스트에 추가\n",
        "  while (i<len(left)) & (j<len(right)):\n",
        "      if left[i] < right[j]:\n",
        "          merge_a.append(left[i])\n",
        "          i+=1\n",
        "      else:\n",
        "          merge_a.append(right[j])\n",
        "          j+=1\n",
        "  \n",
        "  # 나머지 값들을 결과 리스트에 추가\n",
        "  while (i<len(left)):\n",
        "      merge_a.append(left[i])\n",
        "      i+=1\n",
        "  \n",
        "  while (j<len(right)):\n",
        "      merge_a.append(right[j])\n",
        "      j+=1\n",
        "      \n",
        "  return merge_a\n",
        "    "
      ],
      "execution_count": 0,
      "outputs": []
    },
    {
      "cell_type": "markdown",
      "metadata": {
        "id": "tL0FYWk_xGkK",
        "colab_type": "text"
      },
      "source": [
        "## 4월 22일 알고리즘 수업"
      ]
    },
    {
      "cell_type": "markdown",
      "metadata": {
        "id": "B_GBjbpexKmx",
        "colab_type": "text"
      },
      "source": [
        "### 퀵 정렬"
      ]
    },
    {
      "cell_type": "code",
      "metadata": {
        "id": "aJyLUzYsxz3z",
        "colab_type": "code",
        "outputId": "6d167f43-3836-471f-f3f3-21d49c33cb63",
        "colab": {
          "base_uri": "https://localhost:8080/",
          "height": 35
        }
      },
      "source": [
        "a = [7,2,9,4,3,8,6,1]\n",
        "quick_sort(a)"
      ],
      "execution_count": 0,
      "outputs": [
        {
          "output_type": "execute_result",
          "data": {
            "text/plain": [
              "[1, 2, 3, 4, 6, 7, 8, 9]"
            ]
          },
          "metadata": {
            "tags": []
          },
          "execution_count": 14
        }
      ]
    },
    {
      "cell_type": "code",
      "metadata": {
        "id": "UAPfEr7wxxR0",
        "colab_type": "code",
        "colab": {}
      },
      "source": [
        "def quick_sort(a):\n",
        "  # a의 길이가 2 이상일 때,\n",
        "  if len(a) > 1:\n",
        "    pivot = a[0]\n",
        "    # pivot을 기준으로 작은값은 left, 크거나 같은 값은 right 변수에 담는다.\n",
        "    left = [e for e in a[1:] if e < pivot]\n",
        "    right = [e for e in a[1:] if e >= pivot]\n",
        "    # pivot을 기준으로 left, right 리스트를 병합하고 재귀함수를 실행한다.\n",
        "    return quick_sort(left) + [pivot] + quick_sort(right)\n",
        "\n",
        "  else :\n",
        "    return a"
      ],
      "execution_count": 0,
      "outputs": []
    },
    {
      "cell_type": "markdown",
      "metadata": {
        "id": "injQjG1vb7Rf",
        "colab_type": "text"
      },
      "source": [
        "## 4월 29일 알고리즘 수업"
      ]
    },
    {
      "cell_type": "markdown",
      "metadata": {
        "id": "pSs4CttpcAQt",
        "colab_type": "text"
      },
      "source": [
        "### 힙 정렬"
      ]
    },
    {
      "cell_type": "markdown",
      "metadata": {
        "id": "uElQfGsUwfjV",
        "colab_type": "text"
      },
      "source": [
        "- 힙 성질이란? 크기(우선 순위)를 중심으로 정렬\n",
        "- 힙은 한 노드가 최대 두개의 자식노드를 가지면서 마지막 레벨을 제외한 모든 레벨에서 완전 이진트리\n",
        "- 힙 구조를 만들어야 힙 정렬을 할 수 있음\n",
        "- ref1. https://lsjsj92.tistory.com/472\n",
        "- ref2. https://ratsgo.github.io/data%20structure&algorithm/2017/09/27/heapsort/"
      ]
    },
    {
      "cell_type": "markdown",
      "metadata": {
        "id": "TGHA3cK8y_BJ",
        "colab_type": "text"
      },
      "source": [
        "#### 1. 힙 정렬 함수"
      ]
    },
    {
      "cell_type": "code",
      "metadata": {
        "id": "0RYTqFaFyz9I",
        "colab_type": "code",
        "colab": {}
      },
      "source": [
        "def heap_sort(unsorted):\n",
        "    # 리스트에 전체 길이를 받음\n",
        "    n = len(unsorted)\n",
        "\n",
        "    # // 연산자 : 몫 구하기\n",
        "    # 이진트리를 구하기 때문에 전체 크기의 반만 반복\n",
        "    # for문을 거꾸로 돌아감\n",
        "    # 이진트리의 가장 아래서부터 heapifyt를 실행하여 힙 구조를 만듬\n",
        "\n",
        "    ### 첫번째 루프 따라가기\n",
        "    ### [loop1]. input shape : 8 // unsorted = [7,2,9,4,3,8,6,1]\n",
        "    ### [loop1]. for i in range(3,-1,-1)\n",
        "    for i in range(n // 2 - 1, -1, -1):\n",
        "        ### [loop1]. heapify(unsorted 리스트, i값인 3, 전체 길이 8)\n",
        "        ### [loop1]. heapify 함수로 이동\n",
        "        heapify(unsorted, i, n)\n",
        "\n",
        "    # 마지막 노드부터 루트노드를 기준으로 값을 스위치하면서 정렬\n",
        "\n",
        "    ### [loop1]. 현재 unsorted의 값 [9, 8, 7, 6, 3, 2, 4, 1]\n",
        "    ### [loop1]. for i in range(7, 0, -1)\n",
        "    for i in range(n - 1, 0, -1):\n",
        "        ### [loop1]. unsorted[0] = 1, unsorted[7] = 9\n",
        "        unsorted[0], unsorted[i] = unsorted[i], unsorted[0]\n",
        "        ### [loop1]. unsorted의 값 [1, 8, 7, 6, 3, 2, 4, 9]\n",
        "        ### [loop1]. heapify(unsorted, 0, 7)\n",
        "        ### [loop1]. 다시 heapify로 가서 정렬\n",
        "        heapify(unsorted, 0, i)\n",
        "        ### [loop1].힙 정렬 후, 역순으로 큰값을 끝으로 밀어넣어줌\n",
        "    return unsorted"
      ],
      "execution_count": 0,
      "outputs": []
    },
    {
      "cell_type": "markdown",
      "metadata": {
        "id": "bFcpCKFtws9g",
        "colab_type": "text"
      },
      "source": [
        "#### 2. 힙 구조 함수"
      ]
    },
    {
      "cell_type": "code",
      "metadata": {
        "id": "ccO25F8mb65h",
        "colab_type": "code",
        "colab": {}
      },
      "source": [
        "# 힙 성질을 확인 후 재정렬\n",
        "# unsorted : 배열, index : 인덱스, heap_size : 크기\n",
        "\n",
        "### [loop1]. heapify(a 리스트, i값인 3, 전체 길이 8)\n",
        "def heapify(unsorted, index, heap_size):\n",
        "\n",
        "    ### [loop1]. largest = 3\n",
        "    ### [loop1]. unsorted[3] = 4\n",
        "    largest = index\n",
        "\n",
        "    ### [loop1]. left_index = 6 // unsorted[6] = 6\n",
        "    ### [loop1]. right_index = 7 // unsorted[7] = 1\n",
        "    left_index = 2 * index\n",
        "    right_index = 2 * index +1\n",
        "\n",
        "    # 자식노드가 범위안에 드는지 확인, 자식노드가 부모노드보다 큰지 확인\n",
        "    # 자식노드가 부모노드보다 크다면 인덱스 스위치\n",
        "\n",
        "    ### [loop1]. unsorted[left_index] = 6, unsorted[largest] = 3\n",
        "    if left_index < heap_size and unsorted[left_index] > unsorted[largest]:\n",
        "        ### [loop1]. largest = 6\n",
        "        largest = left_index\n",
        "\n",
        "    ### [loop1]. unsorted[right_index] = 1, unsorted[largest] = 3 // fail    \n",
        "    if right_index < heap_size and unsorted[right_index] > unsorted[largest]:\n",
        "        largest = right_index\n",
        "    \n",
        "    # 부모노드의 인덱스값이 바뀌었다면 자식노드의 값과 스위치\n",
        "\n",
        "    ### [loop1]. largest = 6 , index = 3\n",
        "    if largest != index:\n",
        "        ### [loop1]. unsorted[3] = 6 , unsorted[6] = 4 스위치\n",
        "        unsorted[largest], unsorted[index] = unsorted[index], unsorted[largest]\n",
        "        # 재귀 함수\n",
        "        heapify(unsorted, largest, heap_size)"
      ],
      "execution_count": 0,
      "outputs": []
    },
    {
      "cell_type": "markdown",
      "metadata": {
        "id": "FH-pIagCzNp3",
        "colab_type": "text"
      },
      "source": [
        "#### 3. 실행"
      ]
    },
    {
      "cell_type": "code",
      "metadata": {
        "id": "9U7oBByB1fT0",
        "colab_type": "code",
        "colab": {}
      },
      "source": [
        "a = [7,2,9,4,3,8,6,1]"
      ],
      "execution_count": 0,
      "outputs": []
    },
    {
      "cell_type": "code",
      "metadata": {
        "id": "xnSU_sIezz_e",
        "colab_type": "code",
        "colab": {
          "base_uri": "https://localhost:8080/",
          "height": 34
        },
        "outputId": "1c0eba9f-b959-47d9-9222-2641d08af95f"
      },
      "source": [
        "heap_sort(a)"
      ],
      "execution_count": 33,
      "outputs": [
        {
          "output_type": "execute_result",
          "data": {
            "text/plain": [
              "[1, 2, 3, 4, 6, 7, 8, 9]"
            ]
          },
          "metadata": {
            "tags": []
          },
          "execution_count": 33
        }
      ]
    },
    {
      "cell_type": "code",
      "metadata": {
        "id": "FBFKTwI-6j12",
        "colab_type": "code",
        "colab": {}
      },
      "source": [
        ""
      ],
      "execution_count": 0,
      "outputs": []
    },
    {
      "cell_type": "code",
      "metadata": {
        "id": "gXVO2dIZ6nEI",
        "colab_type": "code",
        "colab": {}
      },
      "source": [
        ""
      ],
      "execution_count": 0,
      "outputs": []
    }
  ]
}